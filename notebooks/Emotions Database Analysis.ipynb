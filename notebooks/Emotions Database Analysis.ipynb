{
 "cells": [
  {
   "cell_type": "markdown",
   "id": "372d441d",
   "metadata": {},
   "source": [
    "# Emotions Database Analysis"
   ]
  },
  {
   "cell_type": "code",
   "execution_count": 23,
   "id": "937f6089",
   "metadata": {},
   "outputs": [],
   "source": [
    "import pandas as pd\n",
    "import matplotlib.pyplot as plt"
   ]
  },
  {
   "cell_type": "code",
   "execution_count": 15,
   "id": "dc74dd25",
   "metadata": {},
   "outputs": [
    {
     "data": {
      "text/html": [
       "<div>\n",
       "<style scoped>\n",
       "    .dataframe tbody tr th:only-of-type {\n",
       "        vertical-align: middle;\n",
       "    }\n",
       "\n",
       "    .dataframe tbody tr th {\n",
       "        vertical-align: top;\n",
       "    }\n",
       "\n",
       "    .dataframe thead th {\n",
       "        text-align: right;\n",
       "    }\n",
       "</style>\n",
       "<table border=\"1\" class=\"dataframe\">\n",
       "  <thead>\n",
       "    <tr style=\"text-align: right;\">\n",
       "      <th></th>\n",
       "      <th>english_words</th>\n",
       "      <th>portuguese_words</th>\n",
       "      <th>positive</th>\n",
       "      <th>negative</th>\n",
       "      <th>anger</th>\n",
       "      <th>anticipation</th>\n",
       "      <th>disgust</th>\n",
       "      <th>fear</th>\n",
       "      <th>joy</th>\n",
       "      <th>sadness</th>\n",
       "      <th>surprise</th>\n",
       "      <th>trust</th>\n",
       "      <th>score_positive</th>\n",
       "      <th>score_negative</th>\n",
       "    </tr>\n",
       "  </thead>\n",
       "  <tbody>\n",
       "    <tr>\n",
       "      <th>0</th>\n",
       "      <td>aback</td>\n",
       "      <td>surpresa</td>\n",
       "      <td>0</td>\n",
       "      <td>0</td>\n",
       "      <td>0</td>\n",
       "      <td>0</td>\n",
       "      <td>0</td>\n",
       "      <td>0</td>\n",
       "      <td>0</td>\n",
       "      <td>0</td>\n",
       "      <td>0</td>\n",
       "      <td>0</td>\n",
       "      <td>0</td>\n",
       "      <td>0</td>\n",
       "    </tr>\n",
       "    <tr>\n",
       "      <th>1</th>\n",
       "      <td>abacus</td>\n",
       "      <td>ábaco</td>\n",
       "      <td>0</td>\n",
       "      <td>0</td>\n",
       "      <td>0</td>\n",
       "      <td>0</td>\n",
       "      <td>0</td>\n",
       "      <td>0</td>\n",
       "      <td>0</td>\n",
       "      <td>0</td>\n",
       "      <td>0</td>\n",
       "      <td>1</td>\n",
       "      <td>1</td>\n",
       "      <td>0</td>\n",
       "    </tr>\n",
       "    <tr>\n",
       "      <th>2</th>\n",
       "      <td>abandon</td>\n",
       "      <td>abandono</td>\n",
       "      <td>0</td>\n",
       "      <td>1</td>\n",
       "      <td>0</td>\n",
       "      <td>0</td>\n",
       "      <td>0</td>\n",
       "      <td>1</td>\n",
       "      <td>0</td>\n",
       "      <td>1</td>\n",
       "      <td>0</td>\n",
       "      <td>0</td>\n",
       "      <td>0</td>\n",
       "      <td>3</td>\n",
       "    </tr>\n",
       "    <tr>\n",
       "      <th>3</th>\n",
       "      <td>abandoned</td>\n",
       "      <td>abandonado</td>\n",
       "      <td>0</td>\n",
       "      <td>1</td>\n",
       "      <td>1</td>\n",
       "      <td>0</td>\n",
       "      <td>0</td>\n",
       "      <td>1</td>\n",
       "      <td>0</td>\n",
       "      <td>1</td>\n",
       "      <td>0</td>\n",
       "      <td>0</td>\n",
       "      <td>0</td>\n",
       "      <td>4</td>\n",
       "    </tr>\n",
       "    <tr>\n",
       "      <th>4</th>\n",
       "      <td>abandonment</td>\n",
       "      <td>abandono</td>\n",
       "      <td>0</td>\n",
       "      <td>1</td>\n",
       "      <td>1</td>\n",
       "      <td>0</td>\n",
       "      <td>0</td>\n",
       "      <td>1</td>\n",
       "      <td>0</td>\n",
       "      <td>1</td>\n",
       "      <td>1</td>\n",
       "      <td>0</td>\n",
       "      <td>1</td>\n",
       "      <td>4</td>\n",
       "    </tr>\n",
       "    <tr>\n",
       "      <th>5</th>\n",
       "      <td>abate</td>\n",
       "      <td>diminuir</td>\n",
       "      <td>0</td>\n",
       "      <td>0</td>\n",
       "      <td>0</td>\n",
       "      <td>0</td>\n",
       "      <td>0</td>\n",
       "      <td>0</td>\n",
       "      <td>0</td>\n",
       "      <td>0</td>\n",
       "      <td>0</td>\n",
       "      <td>0</td>\n",
       "      <td>0</td>\n",
       "      <td>0</td>\n",
       "    </tr>\n",
       "    <tr>\n",
       "      <th>6</th>\n",
       "      <td>abatement</td>\n",
       "      <td>redução</td>\n",
       "      <td>0</td>\n",
       "      <td>0</td>\n",
       "      <td>0</td>\n",
       "      <td>0</td>\n",
       "      <td>0</td>\n",
       "      <td>0</td>\n",
       "      <td>0</td>\n",
       "      <td>0</td>\n",
       "      <td>0</td>\n",
       "      <td>0</td>\n",
       "      <td>0</td>\n",
       "      <td>0</td>\n",
       "    </tr>\n",
       "    <tr>\n",
       "      <th>7</th>\n",
       "      <td>abba</td>\n",
       "      <td>abba</td>\n",
       "      <td>1</td>\n",
       "      <td>0</td>\n",
       "      <td>0</td>\n",
       "      <td>0</td>\n",
       "      <td>0</td>\n",
       "      <td>0</td>\n",
       "      <td>0</td>\n",
       "      <td>0</td>\n",
       "      <td>0</td>\n",
       "      <td>0</td>\n",
       "      <td>1</td>\n",
       "      <td>0</td>\n",
       "    </tr>\n",
       "    <tr>\n",
       "      <th>8</th>\n",
       "      <td>abbot</td>\n",
       "      <td>abade</td>\n",
       "      <td>0</td>\n",
       "      <td>0</td>\n",
       "      <td>0</td>\n",
       "      <td>0</td>\n",
       "      <td>0</td>\n",
       "      <td>0</td>\n",
       "      <td>0</td>\n",
       "      <td>0</td>\n",
       "      <td>0</td>\n",
       "      <td>1</td>\n",
       "      <td>1</td>\n",
       "      <td>0</td>\n",
       "    </tr>\n",
       "    <tr>\n",
       "      <th>9</th>\n",
       "      <td>abbreviate</td>\n",
       "      <td>abreviar</td>\n",
       "      <td>0</td>\n",
       "      <td>0</td>\n",
       "      <td>0</td>\n",
       "      <td>0</td>\n",
       "      <td>0</td>\n",
       "      <td>0</td>\n",
       "      <td>0</td>\n",
       "      <td>0</td>\n",
       "      <td>0</td>\n",
       "      <td>0</td>\n",
       "      <td>0</td>\n",
       "      <td>0</td>\n",
       "    </tr>\n",
       "  </tbody>\n",
       "</table>\n",
       "</div>"
      ],
      "text/plain": [
       "  english_words portuguese_words  positive  negative  anger  anticipation  \\\n",
       "0         aback         surpresa         0         0      0             0   \n",
       "1        abacus            ábaco         0         0      0             0   \n",
       "2       abandon         abandono         0         1      0             0   \n",
       "3     abandoned       abandonado         0         1      1             0   \n",
       "4   abandonment         abandono         0         1      1             0   \n",
       "5         abate         diminuir         0         0      0             0   \n",
       "6     abatement          redução         0         0      0             0   \n",
       "7          abba             abba         1         0      0             0   \n",
       "8         abbot            abade         0         0      0             0   \n",
       "9    abbreviate         abreviar         0         0      0             0   \n",
       "\n",
       "   disgust  fear  joy  sadness  surprise  trust  score_positive  \\\n",
       "0        0     0    0        0         0      0               0   \n",
       "1        0     0    0        0         0      1               1   \n",
       "2        0     1    0        1         0      0               0   \n",
       "3        0     1    0        1         0      0               0   \n",
       "4        0     1    0        1         1      0               1   \n",
       "5        0     0    0        0         0      0               0   \n",
       "6        0     0    0        0         0      0               0   \n",
       "7        0     0    0        0         0      0               1   \n",
       "8        0     0    0        0         0      1               1   \n",
       "9        0     0    0        0         0      0               0   \n",
       "\n",
       "   score_negative  \n",
       "0               0  \n",
       "1               0  \n",
       "2               3  \n",
       "3               4  \n",
       "4               4  \n",
       "5               0  \n",
       "6               0  \n",
       "7               0  \n",
       "8               0  \n",
       "9               0  "
      ]
     },
     "execution_count": 15,
     "metadata": {},
     "output_type": "execute_result"
    }
   ],
   "source": [
    "emotions_df = pd.read_csv(\"../raw_data/emotions_db.csv\", sep=\";\")\n",
    "emotions_df.head(10)"
   ]
  },
  {
   "cell_type": "code",
   "execution_count": 26,
   "id": "f013c0dd",
   "metadata": {},
   "outputs": [],
   "source": [
    "feelings = ['anger', 'anticipation', 'disgust', 'fear', 'joy', 'sadness', 'surprise', 'trust']"
   ]
  },
  {
   "cell_type": "code",
   "execution_count": 28,
   "id": "9c8840b2",
   "metadata": {},
   "outputs": [
    {
     "data": {
      "text/plain": [
       "['english_words',\n",
       " 'portuguese_words',\n",
       " 'positive',\n",
       " 'negative',\n",
       " 'anger',\n",
       " 'anticipation',\n",
       " 'disgust',\n",
       " 'fear',\n",
       " 'joy',\n",
       " 'sadness',\n",
       " 'surprise',\n",
       " 'trust',\n",
       " 'score_positive',\n",
       " 'score_negative']"
      ]
     },
     "execution_count": 28,
     "metadata": {},
     "output_type": "execute_result"
    }
   ],
   "source": [
    "list(emotions_df.columns[])"
   ]
  },
  {
   "cell_type": "code",
   "execution_count": 6,
   "id": "8a4bb5c0",
   "metadata": {},
   "outputs": [],
   "source": [
    "def count_emotion(emotions_df, emotion):\n",
    "    count = emotions_df[emotion]\n",
    "    return count[count == 1].count()"
   ]
  },
  {
   "cell_type": "code",
   "execution_count": 9,
   "id": "3dc3bf86",
   "metadata": {},
   "outputs": [
    {
     "data": {
      "text/plain": [
       "2312"
      ]
     },
     "execution_count": 9,
     "metadata": {},
     "output_type": "execute_result"
    }
   ],
   "source": [
    "result_positive = count_emotion(emotions_df, \"positive\")\n",
    "result_positive"
   ]
  },
  {
   "cell_type": "code",
   "execution_count": 10,
   "id": "a52ad020",
   "metadata": {},
   "outputs": [
    {
     "data": {
      "text/plain": [
       "3324"
      ]
     },
     "execution_count": 10,
     "metadata": {},
     "output_type": "execute_result"
    }
   ],
   "source": [
    "result_negative = count_emotion(emotions_df, \"negative\")\n",
    "result_negative"
   ]
  },
  {
   "cell_type": "markdown",
   "id": "b7088259",
   "metadata": {},
   "source": [
    "### Cleaning Data"
   ]
  },
  {
   "cell_type": "markdown",
   "id": "b87f9cb4",
   "metadata": {},
   "source": [
    "Check if there are duplicated words"
   ]
  },
  {
   "cell_type": "code",
   "execution_count": 11,
   "id": "7a25990e",
   "metadata": {},
   "outputs": [
    {
     "data": {
      "text/plain": [
       "14182"
      ]
     },
     "execution_count": 11,
     "metadata": {},
     "output_type": "execute_result"
    }
   ],
   "source": [
    "len(emotions_df) # Check number of rows before removing duplicates"
   ]
  },
  {
   "cell_type": "code",
   "execution_count": 12,
   "id": "72424a16",
   "metadata": {},
   "outputs": [
    {
     "data": {
      "text/plain": [
       "14182"
      ]
     },
     "execution_count": 12,
     "metadata": {},
     "output_type": "execute_result"
    }
   ],
   "source": [
    "emotions_df = emotions_df.drop_duplicates() # Remove duplicates\n",
    "len(emotions_df)# Check new number of rows"
   ]
  },
  {
   "cell_type": "markdown",
   "id": "47d041ab",
   "metadata": {},
   "source": [
    "Check if there are null values"
   ]
  },
  {
   "cell_type": "code",
   "execution_count": 13,
   "id": "e4d454a8",
   "metadata": {},
   "outputs": [
    {
     "data": {
      "text/plain": [
       "english_words       1\n",
       "portuguese_words    0\n",
       "positive            0\n",
       "negative            0\n",
       "anger               0\n",
       "anticipation        0\n",
       "disgust             0\n",
       "fear                0\n",
       "joy                 0\n",
       "sadness             0\n",
       "surprise            0\n",
       "trust               0\n",
       "score_positive      0\n",
       "score_negative      0\n",
       "dtype: int64"
      ]
     },
     "execution_count": 13,
     "metadata": {},
     "output_type": "execute_result"
    }
   ],
   "source": [
    "emotions_df.isnull().sum().sort_values(ascending=False) #NaN count for each column"
   ]
  },
  {
   "cell_type": "code",
   "execution_count": 16,
   "id": "fc9d9b54",
   "metadata": {},
   "outputs": [
    {
     "data": {
      "text/html": [
       "<div>\n",
       "<style scoped>\n",
       "    .dataframe tbody tr th:only-of-type {\n",
       "        vertical-align: middle;\n",
       "    }\n",
       "\n",
       "    .dataframe tbody tr th {\n",
       "        vertical-align: top;\n",
       "    }\n",
       "\n",
       "    .dataframe thead th {\n",
       "        text-align: right;\n",
       "    }\n",
       "</style>\n",
       "<table border=\"1\" class=\"dataframe\">\n",
       "  <thead>\n",
       "    <tr style=\"text-align: right;\">\n",
       "      <th></th>\n",
       "      <th>english_words</th>\n",
       "      <th>portuguese_words</th>\n",
       "      <th>positive</th>\n",
       "      <th>negative</th>\n",
       "      <th>anger</th>\n",
       "      <th>anticipation</th>\n",
       "      <th>disgust</th>\n",
       "      <th>fear</th>\n",
       "      <th>joy</th>\n",
       "      <th>sadness</th>\n",
       "      <th>surprise</th>\n",
       "      <th>trust</th>\n",
       "      <th>score_positive</th>\n",
       "      <th>score_negative</th>\n",
       "    </tr>\n",
       "  </thead>\n",
       "  <tbody>\n",
       "    <tr>\n",
       "      <th>14181</th>\n",
       "      <td>TRUE</td>\n",
       "      <td>VERDADE</td>\n",
       "      <td>1</td>\n",
       "      <td>0</td>\n",
       "      <td>0</td>\n",
       "      <td>0</td>\n",
       "      <td>0</td>\n",
       "      <td>0</td>\n",
       "      <td>1</td>\n",
       "      <td>0</td>\n",
       "      <td>0</td>\n",
       "      <td>1</td>\n",
       "      <td>3</td>\n",
       "      <td>0</td>\n",
       "    </tr>\n",
       "  </tbody>\n",
       "</table>\n",
       "</div>"
      ],
      "text/plain": [
       "      english_words portuguese_words  positive  negative  anger  anticipation  \\\n",
       "14181          TRUE          VERDADE         1         0      0             0   \n",
       "\n",
       "       disgust  fear  joy  sadness  surprise  trust  score_positive  \\\n",
       "14181        0     0    1        0         0      1               3   \n",
       "\n",
       "       score_negative  \n",
       "14181               0  "
      ]
     },
     "execution_count": 16,
     "metadata": {},
     "output_type": "execute_result"
    }
   ],
   "source": [
    "emotions_df.tail(1)"
   ]
  },
  {
   "cell_type": "code",
   "execution_count": 22,
   "id": "4e6d39d1",
   "metadata": {},
   "outputs": [
    {
     "data": {
      "text/html": [
       "<div>\n",
       "<style scoped>\n",
       "    .dataframe tbody tr th:only-of-type {\n",
       "        vertical-align: middle;\n",
       "    }\n",
       "\n",
       "    .dataframe tbody tr th {\n",
       "        vertical-align: top;\n",
       "    }\n",
       "\n",
       "    .dataframe thead th {\n",
       "        text-align: right;\n",
       "    }\n",
       "</style>\n",
       "<table border=\"1\" class=\"dataframe\">\n",
       "  <thead>\n",
       "    <tr style=\"text-align: right;\">\n",
       "      <th></th>\n",
       "      <th>english_words</th>\n",
       "      <th>portuguese_words</th>\n",
       "      <th>positive</th>\n",
       "      <th>negative</th>\n",
       "      <th>anger</th>\n",
       "      <th>anticipation</th>\n",
       "      <th>disgust</th>\n",
       "      <th>fear</th>\n",
       "      <th>joy</th>\n",
       "      <th>sadness</th>\n",
       "      <th>surprise</th>\n",
       "      <th>trust</th>\n",
       "      <th>score_positive</th>\n",
       "      <th>score_negative</th>\n",
       "    </tr>\n",
       "  </thead>\n",
       "  <tbody>\n",
       "    <tr>\n",
       "      <th>14178</th>\n",
       "      <td>zoological</td>\n",
       "      <td>zoológico</td>\n",
       "      <td>0</td>\n",
       "      <td>0</td>\n",
       "      <td>0</td>\n",
       "      <td>0</td>\n",
       "      <td>0</td>\n",
       "      <td>0</td>\n",
       "      <td>0</td>\n",
       "      <td>0</td>\n",
       "      <td>0</td>\n",
       "      <td>0</td>\n",
       "      <td>0</td>\n",
       "      <td>0</td>\n",
       "    </tr>\n",
       "  </tbody>\n",
       "</table>\n",
       "</div>"
      ],
      "text/plain": [
       "      english_words portuguese_words  positive  negative  anger  anticipation  \\\n",
       "14178    zoological        zoológico         0         0      0             0   \n",
       "\n",
       "       disgust  fear  joy  sadness  surprise  trust  score_positive  \\\n",
       "14178        0     0    0        0         0      0               0   \n",
       "\n",
       "       score_negative  \n",
       "14178               0  "
      ]
     },
     "execution_count": 22,
     "metadata": {},
     "output_type": "execute_result"
    }
   ],
   "source": [
    "emotions_df = emotions_df.drop(emotions_df.index[len(emotions_df)-1])\n",
    "emotions_df.tail(1)"
   ]
  },
  {
   "cell_type": "markdown",
   "id": "6e36a36c",
   "metadata": {},
   "source": [
    "## Making some charts"
   ]
  },
  {
   "cell_type": "code",
   "execution_count": null,
   "id": "32fe52cb",
   "metadata": {},
   "outputs": [],
   "source": [
    "# Pie chart, where the slices will be ordered and plotted counter-clockwise:\n",
    "labels = 'anger', 'anticipation', 'disgust', 'fear', 'joy', 'sadness', 'surprise', 'trust'\n",
    "sizes = [15, 30, 45, 10]\n",
    "explode = (0, 0.1, 0, 0)  # only \"explode\" the 2nd slice (i.e. 'Hogs')\n",
    "\n",
    "fig1, ax1 = plt.subplots()\n",
    "ax1.pie(sizes, explode=explode, labels=labels, autopct='%1.1f%%',\n",
    "        shadow=True, startangle=90)\n",
    "ax1.axis('equal')  # Equal aspect ratio ensures that pie is drawn as a circle.\n",
    "\n",
    "plt.show()"
   ]
  }
 ],
 "metadata": {
  "kernelspec": {
   "display_name": "Python 3 (ipykernel)",
   "language": "python",
   "name": "python3"
  },
  "language_info": {
   "codemirror_mode": {
    "name": "ipython",
    "version": 3
   },
   "file_extension": ".py",
   "mimetype": "text/x-python",
   "name": "python",
   "nbconvert_exporter": "python",
   "pygments_lexer": "ipython3",
   "version": "3.8.6"
  }
 },
 "nbformat": 4,
 "nbformat_minor": 5
}
