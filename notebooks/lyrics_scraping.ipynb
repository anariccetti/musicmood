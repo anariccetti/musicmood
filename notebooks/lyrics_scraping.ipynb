{
  "nbformat": 4,
  "nbformat_minor": 0,
  "metadata": {
    "colab": {
      "name": "lyrics_scraping.ipynb",
      "provenance": [],
      "collapsed_sections": []
    },
    "kernelspec": {
      "name": "python3",
      "display_name": "Python 3"
    },
    "language_info": {
      "name": "python"
    }
  },
  "cells": [
    {
      "cell_type": "code",
      "metadata": {
        "id": "D0WEPyQ4CITg"
      },
      "source": [
        "import pandas as pd\n",
        "import numpy as np\n",
        "import requests\n",
        "from bs4 import BeautifulSoup\n"
      ],
      "execution_count": 1,
      "outputs": []
    },
    {
      "cell_type": "code",
      "metadata": {
        "id": "NvZ-e-alCJf4"
      },
      "source": [
        "def scrape_lyrics(artistname, songname, i=0):\n",
        "        artistname_clean = str(artistname.replace(' ','-')) if ' ' in artistname else str(artistname)\n",
        "        songname_clean = str(songname.replace(' ','-')) if ' ' in songname else str(songname)\n",
        "        url ='https://genius.com/'+ artistname_clean + '-' + songname_clean + '-' + 'lyrics'\n",
        "        page = requests.get(url)\n",
        "        html = BeautifulSoup(page.text, 'html.parser')\n",
        "        lyrics1 = html.find(\"div\", class_=\"lyrics\")\n",
        "        lyrics2 = html.find(\"div\", class_=\"Lyrics__Container-sc-1ynbvzw-8 eOLwDW\")\n",
        "        if lyrics1:\n",
        "            lyrics = lyrics1.get_text()\n",
        "        elif lyrics2:\n",
        "            lyrics = lyrics2.get_text()\n",
        "\n",
        "        elif lyrics1 == lyrics2 == None and i  < 3:\n",
        "            i += 1\n",
        "            lyrics = scrape_lyrics(artistname.title(), songname.title(), i)\n",
        "        else:\n",
        "            print(\"Lyrics Not Fund\")\n",
        "            lyrics = None\n",
        "        return lyrics"
      ],
      "execution_count": 2,
      "outputs": []
    },
    {
      "cell_type": "code",
      "metadata": {
        "id": "zfvk7Ok8GY_W"
      },
      "source": [
        "r = scrape_lyrics(\"Metallica\", 'fuel', i=0)"
      ],
      "execution_count": 3,
      "outputs": []
    },
    {
      "cell_type": "code",
      "metadata": {
        "colab": {
          "base_uri": "https://localhost:8080/",
          "height": 120
        },
        "id": "r8MCJ1BpIn9E",
        "outputId": "62008dd9-5a47-470d-f5a5-a1736105e8dd"
      },
      "source": [
        "r"
      ],
      "execution_count": null,
      "outputs": [
        {
          "output_type": "execute_result",
          "data": {
            "application/vnd.google.colaboratory.intrinsic+json": {
              "type": "string"
            },
            "text/plain": [
              "\"[Intro]Give me fuel, give me fireGive me that which I desire, ooh![Verse 1]YeahTurn on, I see redAdrenaline crash and crack my headNitro junkie, paint me deadAnd I see redA hundred plus through black and whiteWar horse, warheadFuck 'em man, white-knuckle tightThrough black and white[Chorus]Ooh, on I burnFuel is pumping enginesBurning hard, loose and cleanAnd I burn, churning my directionQuench my thirst with gasolineSo give me fuel, give me fireGive me that which I desireHey![Verse 2]Turn on beyond the boneSwallow future, spit out homeBurn your face upon the chromeYeah!Take the corner, join the crashHeadlights, headlinesAnother Junkie lives too fastYeah lives way too fast, fast, fast, ooh\""
            ]
          },
          "metadata": {
            "tags": []
          },
          "execution_count": 51
        }
      ]
    },
    {
      "cell_type": "code",
      "metadata": {
        "id": "g-nvKipXCOFO"
      },
      "source": [
        "data = pd.read_csv('raw_data.csv')"
      ],
      "execution_count": 21,
      "outputs": []
    },
    {
      "cell_type": "code",
      "metadata": {
        "colab": {
          "base_uri": "https://localhost:8080/",
          "height": 204
        },
        "id": "fy7CJpG1CbLG",
        "outputId": "e4926c31-bc89-433c-8703-357de518bab0"
      },
      "source": [
        "data.head()"
      ],
      "execution_count": 22,
      "outputs": [
        {
          "output_type": "execute_result",
          "data": {
            "text/html": [
              "<div>\n",
              "<style scoped>\n",
              "    .dataframe tbody tr th:only-of-type {\n",
              "        vertical-align: middle;\n",
              "    }\n",
              "\n",
              "    .dataframe tbody tr th {\n",
              "        vertical-align: top;\n",
              "    }\n",
              "\n",
              "    .dataframe thead th {\n",
              "        text-align: right;\n",
              "    }\n",
              "</style>\n",
              "<table border=\"1\" class=\"dataframe\">\n",
              "  <thead>\n",
              "    <tr style=\"text-align: right;\">\n",
              "      <th></th>\n",
              "      <th>track_name</th>\n",
              "      <th>artist_name</th>\n",
              "      <th>label</th>\n",
              "    </tr>\n",
              "  </thead>\n",
              "  <tbody>\n",
              "    <tr>\n",
              "      <th>0</th>\n",
              "      <td>One step closer</td>\n",
              "      <td>Linkin Park</td>\n",
              "      <td>anger</td>\n",
              "    </tr>\n",
              "    <tr>\n",
              "      <th>1</th>\n",
              "      <td>Crawling</td>\n",
              "      <td>Linkin Park</td>\n",
              "      <td>sadness</td>\n",
              "    </tr>\n",
              "    <tr>\n",
              "      <th>2</th>\n",
              "      <td>X Gon' Give It to Ya</td>\n",
              "      <td>DMX</td>\n",
              "      <td>happiness</td>\n",
              "    </tr>\n",
              "    <tr>\n",
              "      <th>3</th>\n",
              "      <td>The Pretender</td>\n",
              "      <td>Foo Fighters</td>\n",
              "      <td>happiness</td>\n",
              "    </tr>\n",
              "    <tr>\n",
              "      <th>4</th>\n",
              "      <td>Boilermaker</td>\n",
              "      <td>Royal Blood</td>\n",
              "      <td>happiness</td>\n",
              "    </tr>\n",
              "  </tbody>\n",
              "</table>\n",
              "</div>"
            ],
            "text/plain": [
              "             track_name   artist_name      label\n",
              "0       One step closer   Linkin Park      anger\n",
              "1              Crawling   Linkin Park    sadness\n",
              "2  X Gon' Give It to Ya           DMX  happiness\n",
              "3         The Pretender  Foo Fighters  happiness\n",
              "4           Boilermaker   Royal Blood  happiness"
            ]
          },
          "metadata": {
            "tags": []
          },
          "execution_count": 22
        }
      ]
    },
    {
      "cell_type": "code",
      "metadata": {
        "id": "sG7kNL_vEpfN"
      },
      "source": [
        "data['track_name'] = data['track_name'].str.lower()\n",
        "data['artist_name'] = data['artist_name'].str.lower()"
      ],
      "execution_count": 23,
      "outputs": []
    },
    {
      "cell_type": "code",
      "metadata": {
        "id": "e2AVT8UvF3Yw"
      },
      "source": [
        "data['artist_name'] = data['artist_name'].str.capitalize()"
      ],
      "execution_count": 24,
      "outputs": []
    },
    {
      "cell_type": "code",
      "metadata": {
        "id": "gZ7AzapzCx-x"
      },
      "source": [
        "data['lyrics'] = np.nan"
      ],
      "execution_count": 25,
      "outputs": []
    },
    {
      "cell_type": "code",
      "metadata": {
        "colab": {
          "base_uri": "https://localhost:8080/"
        },
        "id": "2GmjRY32Ce3S",
        "outputId": "3cb5687e-6292-40b5-dd54-5f6dc032d7c0"
      },
      "source": [
        "for i, row in data.iterrows():\n",
        "  data.loc[i, 'lyrics'] = scrape_lyrics(row['artist_name'], row['track_name'])\n"
      ],
      "execution_count": 9,
      "outputs": [
        {
          "output_type": "stream",
          "text": [
            "Lyrics Not Fund\n",
            "Lyrics Not Fund\n",
            "Lyrics Not Fund\n",
            "Lyrics Not Fund\n",
            "Lyrics Not Fund\n",
            "Lyrics Not Fund\n",
            "Lyrics Not Fund\n",
            "Lyrics Not Fund\n",
            "Lyrics Not Fund\n",
            "Lyrics Not Fund\n",
            "Lyrics Not Fund\n",
            "Lyrics Not Fund\n",
            "Lyrics Not Fund\n",
            "Lyrics Not Fund\n",
            "Lyrics Not Fund\n",
            "Lyrics Not Fund\n",
            "Lyrics Not Fund\n",
            "Lyrics Not Fund\n",
            "Lyrics Not Fund\n",
            "Lyrics Not Fund\n",
            "Lyrics Not Fund\n",
            "Lyrics Not Fund\n",
            "Lyrics Not Fund\n",
            "Lyrics Not Fund\n",
            "Lyrics Not Fund\n",
            "Lyrics Not Fund\n",
            "Lyrics Not Fund\n",
            "Lyrics Not Fund\n",
            "Lyrics Not Fund\n",
            "Lyrics Not Fund\n",
            "Lyrics Not Fund\n",
            "Lyrics Not Fund\n",
            "Lyrics Not Fund\n",
            "Lyrics Not Fund\n",
            "Lyrics Not Fund\n",
            "Lyrics Not Fund\n",
            "Lyrics Not Fund\n",
            "Lyrics Not Fund\n",
            "Lyrics Not Fund\n",
            "Lyrics Not Fund\n",
            "Lyrics Not Fund\n",
            "Lyrics Not Fund\n",
            "Lyrics Not Fund\n",
            "Lyrics Not Fund\n",
            "Lyrics Not Fund\n",
            "Lyrics Not Fund\n",
            "Lyrics Not Fund\n",
            "Lyrics Not Fund\n",
            "Lyrics Not Fund\n",
            "Lyrics Not Fund\n",
            "Lyrics Not Fund\n",
            "Lyrics Not Fund\n",
            "Lyrics Not Fund\n",
            "Lyrics Not Fund\n",
            "Lyrics Not Fund\n",
            "Lyrics Not Fund\n",
            "Lyrics Not Fund\n",
            "Lyrics Not Fund\n",
            "Lyrics Not Fund\n",
            "Lyrics Not Fund\n",
            "Lyrics Not Fund\n",
            "Lyrics Not Fund\n",
            "Lyrics Not Fund\n",
            "Lyrics Not Fund\n",
            "Lyrics Not Fund\n",
            "Lyrics Not Fund\n",
            "Lyrics Not Fund\n",
            "Lyrics Not Fund\n",
            "Lyrics Not Fund\n",
            "Lyrics Not Fund\n",
            "Lyrics Not Fund\n",
            "Lyrics Not Fund\n",
            "Lyrics Not Fund\n",
            "Lyrics Not Fund\n",
            "Lyrics Not Fund\n",
            "Lyrics Not Fund\n",
            "Lyrics Not Fund\n",
            "Lyrics Not Fund\n",
            "Lyrics Not Fund\n",
            "Lyrics Not Fund\n"
          ],
          "name": "stdout"
        }
      ]
    },
    {
      "cell_type": "code",
      "metadata": {
        "colab": {
          "base_uri": "https://localhost:8080/",
          "height": 204
        },
        "id": "Jq5C1INpDY6K",
        "outputId": "ba7d4d86-4630-474c-9ff6-c0be25edd254"
      },
      "source": [
        "data.tail()"
      ],
      "execution_count": 10,
      "outputs": [
        {
          "output_type": "execute_result",
          "data": {
            "text/html": [
              "<div>\n",
              "<style scoped>\n",
              "    .dataframe tbody tr th:only-of-type {\n",
              "        vertical-align: middle;\n",
              "    }\n",
              "\n",
              "    .dataframe tbody tr th {\n",
              "        vertical-align: top;\n",
              "    }\n",
              "\n",
              "    .dataframe thead th {\n",
              "        text-align: right;\n",
              "    }\n",
              "</style>\n",
              "<table border=\"1\" class=\"dataframe\">\n",
              "  <thead>\n",
              "    <tr style=\"text-align: right;\">\n",
              "      <th></th>\n",
              "      <th>track_name</th>\n",
              "      <th>artist_name</th>\n",
              "      <th>label</th>\n",
              "      <th>lyrics</th>\n",
              "    </tr>\n",
              "  </thead>\n",
              "  <tbody>\n",
              "    <tr>\n",
              "      <th>345</th>\n",
              "      <td>where is the love?</td>\n",
              "      <td>Black eyed peas</td>\n",
              "      <td>sadness</td>\n",
              "      <td>None</td>\n",
              "    </tr>\n",
              "    <tr>\n",
              "      <th>346</th>\n",
              "      <td>the time</td>\n",
              "      <td>Black eyed peas</td>\n",
              "      <td>happiness</td>\n",
              "      <td>None</td>\n",
              "    </tr>\n",
              "    <tr>\n",
              "      <th>347</th>\n",
              "      <td>don't worry be happy</td>\n",
              "      <td>Bobby mcferrin</td>\n",
              "      <td>happiness</td>\n",
              "      <td>None</td>\n",
              "    </tr>\n",
              "    <tr>\n",
              "      <th>348</th>\n",
              "      <td>i will survive</td>\n",
              "      <td>Gloria gaynor</td>\n",
              "      <td>NaN</td>\n",
              "      <td>[Intro]At first I was afraid, I was petrifiedK...</td>\n",
              "    </tr>\n",
              "    <tr>\n",
              "      <th>349</th>\n",
              "      <td>follow your heart</td>\n",
              "      <td>Triumph</td>\n",
              "      <td>NaN</td>\n",
              "      <td>[Verse 1]People sayDon't ever look behindHappi...</td>\n",
              "    </tr>\n",
              "  </tbody>\n",
              "</table>\n",
              "</div>"
            ],
            "text/plain": [
              "               track_name  ...                                             lyrics\n",
              "345    where is the love?  ...                                               None\n",
              "346              the time  ...                                               None\n",
              "347  don't worry be happy  ...                                               None\n",
              "348        i will survive  ...  [Intro]At first I was afraid, I was petrifiedK...\n",
              "349     follow your heart  ...  [Verse 1]People sayDon't ever look behindHappi...\n",
              "\n",
              "[5 rows x 4 columns]"
            ]
          },
          "metadata": {
            "tags": []
          },
          "execution_count": 10
        }
      ]
    },
    {
      "cell_type": "code",
      "metadata": {
        "colab": {
          "base_uri": "https://localhost:8080/"
        },
        "id": "Zt-hefU0EeP6",
        "outputId": "58a4ca7d-4760-4ae9-cb47-94dea259e6a5"
      },
      "source": [
        "data.isna().sum()\n"
      ],
      "execution_count": 11,
      "outputs": [
        {
          "output_type": "execute_result",
          "data": {
            "text/plain": [
              "track_name      0\n",
              "artist_name     0\n",
              "label          15\n",
              "lyrics         80\n",
              "dtype: int64"
            ]
          },
          "metadata": {
            "tags": []
          },
          "execution_count": 11
        }
      ]
    },
    {
      "cell_type": "code",
      "metadata": {
        "id": "T2cbELogLjJf"
      },
      "source": [
        "data.to_csv('data.csv',index=False)"
      ],
      "execution_count": 13,
      "outputs": []
    },
    {
      "cell_type": "code",
      "metadata": {
        "colab": {
          "base_uri": "https://localhost:8080/"
        },
        "id": "58Hf0hetLrO3",
        "outputId": "c6735cb4-5936-4fc2-bd9b-35dfdf10c172"
      },
      "source": [
        "data.shape\n"
      ],
      "execution_count": 12,
      "outputs": [
        {
          "output_type": "execute_result",
          "data": {
            "text/plain": [
              "(350, 4)"
            ]
          },
          "metadata": {
            "tags": []
          },
          "execution_count": 12
        }
      ]
    },
    {
      "cell_type": "code",
      "metadata": {
        "colab": {
          "base_uri": "https://localhost:8080/"
        },
        "id": "xF3pQGKYfG-p",
        "outputId": "6b1921b6-716c-4314-dc2b-fa81b5379d51"
      },
      "source": [
        "!pip install lyricsgenius"
      ],
      "execution_count": 15,
      "outputs": [
        {
          "output_type": "stream",
          "text": [
            "Collecting lyricsgenius\n",
            "\u001b[?25l  Downloading https://files.pythonhosted.org/packages/0d/32/be32f6922f70fd1b9900b50b228f6585cd60a96bdf03589df738f627d388/lyricsgenius-3.0.1-py3-none-any.whl (59kB)\n",
            "\r\u001b[K     |█████▌                          | 10kB 12.9MB/s eta 0:00:01\r\u001b[K     |███████████                     | 20kB 17.8MB/s eta 0:00:01\r\u001b[K     |████████████████▌               | 30kB 10.5MB/s eta 0:00:01\r\u001b[K     |██████████████████████          | 40kB 8.5MB/s eta 0:00:01\r\u001b[K     |███████████████████████████▋    | 51kB 5.0MB/s eta 0:00:01\r\u001b[K     |████████████████████████████████| 61kB 3.2MB/s \n",
            "\u001b[?25hRequirement already satisfied: beautifulsoup4>=4.6.0 in /usr/local/lib/python3.7/dist-packages (from lyricsgenius) (4.6.3)\n",
            "Requirement already satisfied: requests>=2.20.0 in /usr/local/lib/python3.7/dist-packages (from lyricsgenius) (2.23.0)\n",
            "Requirement already satisfied: urllib3!=1.25.0,!=1.25.1,<1.26,>=1.21.1 in /usr/local/lib/python3.7/dist-packages (from requests>=2.20.0->lyricsgenius) (1.24.3)\n",
            "Requirement already satisfied: chardet<4,>=3.0.2 in /usr/local/lib/python3.7/dist-packages (from requests>=2.20.0->lyricsgenius) (3.0.4)\n",
            "Requirement already satisfied: certifi>=2017.4.17 in /usr/local/lib/python3.7/dist-packages (from requests>=2.20.0->lyricsgenius) (2021.5.30)\n",
            "Requirement already satisfied: idna<3,>=2.5 in /usr/local/lib/python3.7/dist-packages (from requests>=2.20.0->lyricsgenius) (2.10)\n",
            "Installing collected packages: lyricsgenius\n",
            "Successfully installed lyricsgenius-3.0.1\n"
          ],
          "name": "stdout"
        }
      ]
    },
    {
      "cell_type": "code",
      "metadata": {
        "id": "8i4mYtcZNDwe"
      },
      "source": [
        "  import lyricsgenius as lg"
      ],
      "execution_count": 16,
      "outputs": []
    },
    {
      "cell_type": "code",
      "metadata": {
        "id": "eSGEsXFnfFm-"
      },
      "source": [
        "genius = lg.Genius('', skip_non_songs=True, excluded_terms=[\"(Remix)\", \"(Live)\"], remove_section_headers=True)"
      ],
      "execution_count": 17,
      "outputs": []
    },
    {
      "cell_type": "code",
      "metadata": {
        "colab": {
          "base_uri": "https://localhost:8080/"
        },
        "id": "Z8MHN17TfTy-",
        "outputId": "3e1fdcf5-5eee-4e0a-9c72-5738f35fb66b"
      },
      "source": [
        "r = genius.search_song(title='Fuel',artist='Metallica')"
      ],
      "execution_count": 19,
      "outputs": [
        {
          "output_type": "stream",
          "text": [
            "Searching for \"Fuel\" by Metallica...\n",
            "Done.\n"
          ],
          "name": "stdout"
        }
      ]
    },
    {
      "cell_type": "code",
      "metadata": {
        "colab": {
          "base_uri": "https://localhost:8080/",
          "height": 171
        },
        "id": "pRio_zlzfiea",
        "outputId": "e26685f6-c690-49f1-c066-ded32133f38b"
      },
      "source": [
        "r.lyrics"
      ],
      "execution_count": 20,
      "outputs": [
        {
          "output_type": "execute_result",
          "data": {
            "application/vnd.google.colaboratory.intrinsic+json": {
              "type": "string"
            },
            "text/plain": [
              "\"Give me fuel, give me fire\\nGive me that which I desire, ooh!\\n\\nYeah\\nTurn on, I see red\\nAdrenaline crash and crack my head\\nNitro junkie, paint me dead\\nAnd I see red\\nA hundred plus through black and white\\nWar horse, warhead\\nFuck 'em man, white-knuckle tight\\nThrough black and white\\n\\nOoh, on I burn\\nFuel is pumping engines\\nBurning hard, loose and clean\\nAnd I burn, churning my direction\\nQuench my thirst with gasoline\\nSo give me fuel, give me fire\\nGive me that which I desire\\nHey!\\n\\nTurn on beyond the bone\\nSwallow future, spit out home\\nBurn your face upon the chrome\\nYeah!\\nTake the corner, join the crash\\nHeadlights, headlines\\nAnother Junkie lives too fast\\nYeah lives way too fast, fast, fast, ooh\\nOoh, on I burn\\nFuel is pumping engines\\nBurning hard, loose and clean\\nAnd I burn, churning my direction\\nQuench my thirst with gasoline\\nSo give me fuel, give me fire\\nGive me that which I desire, ooh, yeah-heh\\nWhite knuckle tight!\\n\\n\\nGive me fuel (On I burn, on and on)\\nGive me fire (On I burn, on and on)\\nMy desire (On I burn, on and on)\\n\\nOoh, on I burn\\nFuel is pumping engines\\nBurning hard, loose and clean\\nAnd I burn, churning my direction\\nQuench my thirst with gasoline\\nSo give me fuel, give me fire\\nGive me that which I desire\\nOn I burn14EmbedShare URLCopyEmbedCopy\""
            ]
          },
          "metadata": {
            "tags": []
          },
          "execution_count": 20
        }
      ]
    },
    {
      "cell_type": "code",
      "metadata": {
        "colab": {
          "base_uri": "https://localhost:8080/"
        },
        "id": "U2hRQiFLfmnx",
        "outputId": "f9e25a60-103d-49b2-e1ef-678457fd2420"
      },
      "source": [
        "for i, row in data.iterrows():\n",
        "  try:\n",
        "    data.loc[i, 'lyrics'] = genius.search_song(title=row['track_name'],artist=row['artist_name']).lyrics\n",
        "  except:\n",
        "    continue\n"
      ],
      "execution_count": 27,
      "outputs": [
        {
          "output_type": "stream",
          "text": [
            "Searching for \"one step closer\" by Linkin park...\n",
            "Done.\n",
            "Searching for \"crawling\" by Linkin park...\n",
            "Done.\n",
            "Searching for \"x gon' give it to ya\" by Dmx...\n",
            "Done.\n",
            "Searching for \"the pretender\" by Foo fighters...\n",
            "Done.\n",
            "Searching for \"boilermaker\" by Royal blood...\n",
            "Done.\n",
            "Searching for \"nothing else matters\" by Metallica...\n",
            "Done.\n",
            "Searching for \"creep\" by Radiohead...\n",
            "Done.\n",
            "Searching for \"mr. jones\" by Counting crows...\n",
            "Done.\n",
            "Searching for \"underdog\" by Kasabian...\n",
            "Done.\n",
            "Searching for \"best of you\" by Foo fighters...\n",
            "Done.\n",
            "Searching for \"dog days are over\" by Florence + the machine...\n",
            "Done.\n",
            "Searching for \"happy\" by Pharrell williams...\n",
            "Done.\n",
            "Searching for \"stay away\" by Nirvana...\n",
            "Done.\n",
            "Searching for \"riot\" by Three days grace...\n",
            "Done.\n",
            "Searching for \"born for greatness\" by Papa roach...\n",
            "Done.\n",
            "Searching for \"i stand alone\" by Godsmack...\n",
            "Done.\n",
            "Searching for \"belief\" by John mayer...\n",
            "Done.\n",
            "Searching for \"hey ya!\" by Outkast...\n",
            "Done.\n",
            "Searching for \"forever\" by Drake...\n",
            "Done.\n",
            "Searching for \"when i'm gone\" by Eminem...\n",
            "Done.\n",
            "Searching for \"cleanin' out my closet\" by Eminem...\n",
            "Done.\n",
            "Searching for \"mockingbird\" by Eminem...\n",
            "Done.\n",
            "Searching for \"lose yourself\" by Eminem...\n",
            "Done.\n",
            "Searching for \"lucky you\" by Eminem...\n",
            "Done.\n",
            "Searching for \"venom\" by Eminem...\n",
            "Done.\n",
            "Searching for \"fast lane\" by Bad meets evil...\n",
            "Done.\n",
            "Searching for \"remember the name\" by Fort minor...\n",
            "Done.\n",
            "Searching for \"hell & back\" by Kid ink...\n",
            "Done.\n",
            "Searching for \"drop the world\" by Lil wayne...\n",
            "Done.\n",
            "Searching for \"watermelon sugar\" by Harry styles...\n",
            "Done.\n",
            "Searching for \"livin' la vida loca\" by Ricky martin...\n",
            "Done.\n",
            "Searching for \"times like these\" by Foo fighters...\n",
            "Done.\n",
            "Searching for \"don't stop me now\" by Queen...\n",
            "Done.\n",
            "Searching for \"we are the champions\" by Queen...\n",
            "Done.\n",
            "Searching for \"crazy little thing called love\" by Queen...\n",
            "Done.\n",
            "Searching for \"psychosocial\" by Slipknot...\n",
            "Done.\n",
            "Searching for \"bat country\" by Avenged sevenfold...\n",
            "Done.\n",
            "Searching for \"how to fly\" by Sticky fingers...\n",
            "Done.\n",
            "Searching for \"like a stone\" by Audioslave...\n",
            "Done.\n",
            "Searching for \"billionaire\" by Bruno mars...\n",
            "Done.\n",
            "Searching for \"dream no more\" by Metallica...\n",
            "Done.\n",
            "Searching for \"fade to black\" by Metallica...\n",
            "Done.\n",
            "Searching for \"you can't stop me\" by Andy mineo...\n",
            "Done.\n",
            "Searching for \"legend\" by Drake...\n",
            "Done.\n",
            "Searching for \"here comes the sun\" by The beatles...\n",
            "Done.\n",
            "Searching for \"don't stop believin'\" by Journey...\n",
            "Done.\n",
            "Searching for \"africa\" by Toto...\n",
            "Done.\n",
            "Searching for \"eye of the tiger\" by Survivor...\n",
            "Done.\n",
            "Searching for \"jump\" by Van halen...\n",
            "Done.\n",
            "Searching for \"sharp dressed man\" by Zz top...\n",
            "Done.\n",
            "Searching for \"johnny b. goode\" by Chuck berry...\n",
            "Done.\n",
            "Searching for \"dancing queen\" by Abba...\n",
            "Done.\n",
            "Searching for \"dreams\" by Fleetwood mac...\n",
            "Done.\n",
            "Searching for \"drain you\" by Nirvana...\n",
            "Done.\n",
            "Searching for \"heart-shaped box\" by Nirvana...\n",
            "Done.\n",
            "Searching for \"polly\" by Nirvana...\n",
            "Done.\n",
            "Searching for \"lithium\" by Nirvana...\n",
            "Done.\n",
            "Searching for \"rape me\" by Nirvana...\n",
            "Done.\n",
            "Searching for \"iridescent\" by Linkin park...\n",
            "Done.\n",
            "Searching for \"the messenger\" by Linkin park...\n",
            "Done.\n",
            "Searching for \"leave out all the rest\" by Linkin park...\n",
            "Done.\n",
            "Searching for \"wretches and kings\" by Linkin park...\n",
            "Done.\n",
            "Searching for \"killing in the name\" by Rage against the machine...\n",
            "Done.\n",
            "Searching for \"take the power back\" by Rage against the machine...\n",
            "Done.\n",
            "Searching for \"battle symphony\" by Linkin park...\n",
            "Done.\n",
            "Searching for \"papercut\" by Linkin park...\n",
            "Done.\n",
            "Searching for \"a place for my head\" by Linkin park...\n",
            "Done.\n",
            "Searching for \"don't stay\" by Linkin park...\n",
            "Done.\n",
            "Searching for \"strange clouds\" by B.o.b...\n",
            "Done.\n",
            "Searching for \"time of our lives\" by Pitbull...\n",
            "Specified song does not contain lyrics. Rejecting.\n",
            "Searching for \"rock bottom\" by Eminem...\n",
            "Done.\n",
            "Searching for \"sabotage\" by Beastie boys...\n",
            "Done.\n",
            "Searching for \"all the pretty girls\" by Kaleo...\n",
            "Done.\n",
            "Searching for \"till i collapse\" by Eminem...\n",
            "Done.\n",
            "Searching for \"go hard or go home\" by Wiz khalifa...\n",
            "Done.\n",
            "Searching for \"skinny\" by Kaleo...\n",
            "Done.\n",
            "Searching for \"st. anger\" by Metallica...\n",
            "Done.\n",
            "Searching for \"b.y.o.b.\" by System of a down...\n",
            "Done.\n",
            "Searching for \"somebody that i used to know\" by Gotye...\n",
            "Done.\n",
            "Searching for \"your power\" by Billie eilish...\n",
            "Done.\n",
            "Searching for \"you oughta know\" by Alanis morissette...\n",
            "Done.\n",
            "Searching for \"you've got another thing comin'\" by Judas priest...\n",
            "Done.\n",
            "Searching for \"painkiller\" by Judas priest...\n",
            "Done.\n",
            "Searching for \"the unforgiven\" by Metallica...\n",
            "Done.\n",
            "Searching for \"screaming for vengeance\" by Judas priest...\n",
            "Done.\n",
            "Searching for \"midlife crisis\" by Faith no more...\n",
            "Done.\n",
            "Searching for \"antichrist superstar\" by Marilyn manson...\n",
            "Done.\n",
            "Searching for \"the beautiful people\" by Marilyn manson...\n",
            "Done.\n",
            "Searching for \"thoughtless\" by Korn...\n",
            "Done.\n",
            "Searching for \"y'all want a single\" by Korn...\n",
            "Done.\n",
            "Searching for \"anarchy in the uk\" by Sex pistols...\n",
            "Done.\n",
            "Searching for \"los angeles is burning\" by Bad religion...\n",
            "Done.\n",
            "Searching for \"fuck you\" by Lily allen...\n",
            "Done.\n",
            "Searching for \"american idiot\" by Green day...\n",
            "Done.\n",
            "Searching for \"come out and play\" by The offspring...\n",
            "Done.\n",
            "Searching for \"original prankster\" by The offspring...\n",
            "Done.\n",
            "Searching for \"ignorance\" by Paramore...\n",
            "Done.\n",
            "Searching for \"marvin gaye\" by Charlie puth...\n",
            "Done.\n",
            "Searching for \"love sex magic\" by Ciara...\n",
            "Done.\n",
            "Searching for \"wicked game\" by Chris isaac...\n",
            "Done.\n",
            "Searching for \"kiss me\" by Ed sheeran...\n",
            "Done.\n",
            "Searching for \"p.d.a.\" by John legend...\n",
            "Done.\n",
            "Searching for \"secret\" by Maroon 5...\n",
            "Done.\n",
            "Searching for \"this love\" by Maroon 5...\n",
            "Done.\n",
            "Searching for \"heal me\" by Lady gaga...\n",
            "Done.\n",
            "Searching for \"sexual healing\" by Marvin gaye...\n",
            "Done.\n",
            "Searching for \"a.y.o. technology\" by Justin timberlake...\n",
            "Done.\n",
            "Searching for \"skin\" by Rihanna...\n",
            "Done.\n",
            "Searching for \"rain fall down\" by The rolling stones...\n",
            "Done.\n",
            "Searching for \"fetish\" by Selena gomez...\n",
            "Done.\n",
            "Searching for \"good for you\" by Selena gomez...\n",
            "Done.\n",
            "Searching for \"duality\" by Slipknot...\n",
            "Done.\n",
            "Searching for \"the sound of silence\" by Simon & garfunkel...\n",
            "Done.\n",
            "Searching for \"personal jesus\" by Marilyn manson...\n",
            "Done.\n",
            "Searching for \"what a wonderful world\" by Louis armstrong...\n",
            "Done.\n",
            "Searching for \"girls just wanna have fun\" by Cyndi lauper...\n",
            "Done.\n",
            "Searching for \"wildflowers\" by Tom petty...\n",
            "Done.\n",
            "Searching for \"the boy who blocked his own shot\" by Brand new...\n",
            "Done.\n",
            "Searching for \"listen before i go\" by Billie eilish...\n",
            "Done.\n",
            "Searching for \"chop suey\" by System of a down...\n",
            "Done.\n",
            "Searching for \"hide and seek\" by Imogen heap...\n",
            "Done.\n",
            "Searching for \"daffodil lament\" by The cranberries...\n",
            "Done.\n",
            "Searching for \"under the bridge\" by The red hot chili peppers...\n",
            "Done.\n",
            "Searching for \"stay with me\" by Sam smith...\n",
            "Done.\n",
            "Searching for \"i'm not the only one\" by Sam smith...\n",
            "Done.\n",
            "Searching for \"i don't want to talk about it\" by Rod stewart...\n",
            "Done.\n",
            "Searching for \"biko\" by Peter gabriel...\n",
            "Done.\n",
            "Searching for \"smother\" by Daughter...\n",
            "Done.\n",
            "Searching for \"goodbye\" by Apparat...\n",
            "Done.\n",
            "Searching for \"heartbreak warfare\" by John mayer...\n",
            "Done.\n",
            "Searching for \"stop crying your heart out\" by Oasis...\n",
            "Done.\n",
            "Searching for \"tainted love\" by Marilyn manson...\n",
            "Done.\n",
            "Searching for \"creep\" by Radiohead...\n",
            "Done.\n",
            "Searching for \"alone i break\" by Korn...\n",
            "Done.\n",
            "Searching for \"my immortal\" by Evanescence...\n",
            "Done.\n",
            "Searching for \"bring me to life\" by Evanescence...\n",
            "Done.\n",
            "Searching for \"call me when you're sober\" by Evanescence...\n",
            "Done.\n",
            "Searching for \"going under\" by Evanescence...\n",
            "Done.\n",
            "Searching for \"one last breath\" by Creed...\n",
            "Done.\n",
            "Searching for \"anthem part two\" by Blink-182...\n",
            "Done.\n",
            "Searching for \"stay together for the kids\" by Blink-182...\n",
            "Done.\n",
            "Searching for \"the kids aren't alright\" by The offspring...\n",
            "Done.\n",
            "Searching for \"self esteem\" by The offspring...\n",
            "Done.\n",
            "Searching for \"you are free\" by Jimmy eat world...\n",
            "Done.\n",
            "Searching for \"free to decide\" by The cranberries...\n",
            "Done.\n",
            "Searching for \"don't stop believing\" by Journey...\n",
            "Done.\n",
            "Searching for \"my sacrifice\" by Creed...\n",
            "Done.\n",
            "Searching for \"the art of dying \" by Gojira...\n",
            "Done.\n",
            "Searching for \"stranded\" by Gojira...\n",
            "Done.\n",
            "Searching for \"into the storm\" by Gojira...\n",
            "Done.\n",
            "Searching for \"amazonia\" by Gojira...\n",
            "Done.\n",
            "Searching for \"silvera\" by Gojira...\n",
            "Done.\n",
            "Searching for \"the gift of guilt\" by Gojira...\n",
            "Done.\n",
            "Searching for \"global warming\" by Gojira...\n",
            "Done.\n",
            "Searching for \"ascendancy\" by Trivium...\n",
            "Done.\n",
            "Searching for \"like light to the flies\" by Trivium...\n",
            "Done.\n",
            "Searching for \"dying in your arms\" by Trivium...\n",
            "Done.\n",
            "Searching for \"drowned and torn asunder\" by Trivium...\n",
            "Done.\n",
            "Searching for \"drownig in the sound\" by Trivium...\n",
            "Done.\n",
            "Searching for \"in waves\" by Trivium...\n",
            "Done.\n",
            "Searching for \"down from the sky\" by Trivium...\n",
            "Done.\n",
            "Searching for \"the sin and the sentence\" by Trivium...\n",
            "Done.\n",
            "Searching for \"blackened\" by Metallica...\n",
            "Done.\n",
            "Searching for \"...and justice for all\" by Metallica...\n",
            "Done.\n",
            "Searching for \"one\" by Metallica...\n",
            "Done.\n",
            "Searching for \"that was just your life\" by Metallica...\n",
            "Done.\n",
            "Searching for \"broken, beat & sacarred\" by Metallica...\n",
            "Done.\n",
            "Searching for \"the day that never comes\" by Metallica...\n",
            "Done.\n",
            "Searching for \"all nighmare long\" by Metallica...\n",
            "Done.\n",
            "Searching for \"cyanide\" by Metallica...\n",
            "Done.\n",
            "Searching for \"the unforgiven iii\" by Metallica...\n",
            "Done.\n",
            "Searching for \"hardwired\" by Metallica...\n",
            "Done.\n",
            "Searching for \"the four horsemen\" by Metallica...\n",
            "Done.\n",
            "Searching for \"seek & destroy\" by Metallica...\n",
            "Done.\n",
            "Searching for \"king nothing\" by Metallica...\n",
            "Done.\n",
            "Searching for \"battery\" by Metallica...\n",
            "Done.\n",
            "Searching for \"master of puppets\" by Metallica...\n",
            "Done.\n",
            "Searching for \"welcome home (sanitarium)\" by Metallica...\n",
            "Done.\n",
            "Searching for \"disposable heroes\" by Metallica...\n",
            "Done.\n",
            "Searching for \"enter sandman\" by Metallica...\n",
            "Done.\n",
            "Searching for \"sad but true\" by Metallica...\n",
            "Done.\n",
            "Searching for \"don't tread on me\" by Metallica...\n",
            "Done.\n",
            "Searching for \"my friend of misery\" by Metallica...\n",
            "Done.\n",
            "Searching for \"fuel\" by Metallica...\n",
            "Done.\n",
            "Searching for \"fight fire with fire\" by Metallica...\n",
            "Done.\n",
            "Searching for \"ride the lightning\" by Metallica...\n",
            "Done.\n",
            "Searching for \"creeping death\" by Metallica...\n",
            "Done.\n",
            "Searching for \"invisible kid\" by Metallica...\n",
            "Done.\n",
            "Searching for \"sweet amber\" by Metallica...\n",
            "Done.\n",
            "Searching for \"the unnamed feeling\" by Metallica...\n",
            "Done.\n",
            "Searching for \"all within my hands\" by Metallica...\n",
            "Done.\n",
            "Searching for \"life eternal\" by Ghost...\n",
            "Done.\n",
            "Searching for \"4 words (to choke upon)\" by Bullet for my valentine...\n",
            "Done.\n",
            "Searching for \"your betrayal\" by Bullet for my valentine...\n",
            "Done.\n",
            "Searching for \"a place where you belong\" by Bullet for my valentine...\n",
            "Done.\n",
            "Searching for \"hand of blood\" by Bullet for my valentine...\n",
            "Done.\n",
            "Searching for \"scream aim fire\" by Bullet for my valentine...\n",
            "Done.\n",
            "Searching for \"waking the demon\" by Bullet for my valentine...\n",
            "Done.\n",
            "Searching for \"die mf die\" by Dope...\n",
            "Done.\n",
            "Searching for \"nobody prayng for me\" by Seether...\n",
            "Done.\n",
            "Searching for \"payback\" by Slayer...\n",
            "Done.\n",
            "Searching for \"s.o.s (sawed off shotgun)\" by The glorious sons...\n",
            "Done.\n",
            "Searching for \"bullet\" by Hollywood undead...\n",
            "Done.\n",
            "Searching for \"you\" by Five finger death punch...\n",
            "Done.\n",
            "Searching for \"alejandro \" by Lady gaga...\n",
            "Done.\n",
            "Searching for \"big girls don't cry\" by Fergie...\n",
            "Done.\n",
            "Searching for \"diamonds\" by Rihanna...\n",
            "Done.\n",
            "Searching for \"don't cha\" by The pussycat doolls...\n",
            "Done.\n",
            "Searching for \"the edge of glory\" by Lady gaga...\n",
            "Done.\n",
            "Searching for \"here without you\" by 3 doors down...\n",
            "Done.\n",
            "Searching for \"hot n cold\" by Katy perry...\n",
            "Done.\n",
            "Searching for \"lonely\" by Akon...\n",
            "Done.\n",
            "Searching for \"obsessed\" by Mariah carie...\n",
            "Done.\n",
            "Searching for \"promiscuous\" by Nelly furtado...\n",
            "Done.\n",
            "Searching for \"shut up and drive\" by Rihanna...\n",
            "Done.\n",
            "Searching for \"toxic\" by Britney spears...\n",
            "Done.\n",
            "Searching for \"wasted\" by Marian hill...\n",
            "Done.\n",
            "Searching for \"i can't get enough\" by Benny blanco, selena gomez...\n",
            "Done.\n",
            "Searching for \"breathe\" by Mickey blue...\n",
            "Done.\n",
            "Searching for \"say something\" by Justin timberlake...\n",
            "Done.\n",
            "Searching for \"badi boum\" by Felix snow...\n",
            "Done.\n",
            "Searching for \"dancing with a stranger\" by Sam smith...\n",
            "Done.\n",
            "Searching for \"medellín\" by Madona...\n",
            "Done.\n",
            "Searching for \"glory box\" by Maxine ashley...\n",
            "Done.\n",
            "Searching for \"gold \" by Kiiara...\n",
            "Done.\n",
            "Searching for \"never go back\" by Dennis llyod...\n",
            "Done.\n",
            "Searching for \"location\" by Khalid...\n",
            "Done.\n",
            "Searching for \"in the end\" by Linkin park...\n",
            "Done.\n",
            "Searching for \"cloud\" by Lola jane...\n",
            "Done.\n",
            "Searching for \"trampoline\" by Shaed, zayn...\n",
            "Done.\n",
            "Searching for \"lovely\" by Billie ellish...\n",
            "Done.\n",
            "Searching for \"tell us\" by Usher...\n",
            "Done.\n",
            "Searching for \"we won't\" by Jaymes young, phoebe ryan...\n",
            "Done.\n",
            "Searching for \"yummy\" by Justin bieber...\n",
            "Done.\n",
            "Searching for \"get me \" by Justin bieber...\n",
            "Done.\n",
            "Searching for \"alone\" by Alan walker...\n",
            "Done.\n",
            "Searching for \"action\" by John legend...\n",
            "Done.\n",
            "Searching for \"time of our life\" by Pitbull, ne you...\n",
            "Done.\n",
            "Searching for \"so sick\" by Ne yo...\n",
            "Done.\n",
            "Searching for \"because of you\" by Ne yo...\n",
            "Done.\n",
            "Searching for \"miss independent\" by Ne yo...\n",
            "Done.\n",
            "Searching for \"let me love you\" by Ne yo...\n",
            "Done.\n",
            "Searching for \"sexy love\" by Ne yo...\n",
            "Done.\n",
            "Searching for \"mad\" by Ne yo...\n",
            "Done.\n",
            "Searching for \"mirror\" by Ne yo...\n",
            "Done.\n",
            "Searching for \"the lady in red\" by Chris de burgh...\n",
            "Done.\n",
            "Searching for \"glory of love\" by Peter cetera...\n",
            "Done.\n",
            "Searching for \"heaven\" by Bryan adams...\n",
            "Done.\n",
            "Searching for \"fast car\" by Tracy chapman...\n",
            "Done.\n",
            "Searching for \"right here wainting\" by Richard marx...\n",
            "Done.\n",
            "Searching for \"in the air tonaght\" by Phil collins...\n",
            "Done.\n",
            "Searching for \"total eclipse of the heart\" by Bonnie tyler...\n",
            "Done.\n",
            "Searching for \"one moment in time\" by Whitney houston...\n",
            "Done.\n",
            "Searching for \"coming around again\" by Carly simon...\n",
            "Done.\n",
            "Searching for \"time after time\" by Cyndi lauper...\n",
            "Done.\n",
            "Searching for \"on top of the world\" by Imagine dragons...\n",
            "Done.\n",
            "Searching for \"believer\" by Imagine dragons...\n",
            "Done.\n",
            "Searching for \"wrecked\" by Imagine dragons...\n",
            "Done.\n",
            "Searching for \"radioactive\" by Imagine dragons...\n",
            "Done.\n",
            "Searching for \"natural\" by Imagine dragons...\n",
            "Done.\n",
            "Searching for \"whatever it takes\" by Imagine dragons...\n",
            "Done.\n",
            "Searching for \"leave the door open\" by Silk sonic...\n",
            "Done.\n",
            "Searching for \"talking to the moon\" by Bruno mars...\n",
            "Done.\n",
            "Searching for \"when i was your man\" by Bruno mars...\n",
            "Done.\n",
            "Searching for \"locked out of heaven\" by Bruno mars...\n",
            "Done.\n",
            "Searching for \"it will rain\" by Bruno mars...\n",
            "Done.\n",
            "Searching for \"grenade\" by Bruno mars...\n",
            "Done.\n",
            "Searching for \"just the way you are\" by Bruno mars...\n",
            "Done.\n",
            "Searching for \"marry you\" by Bruno mars...\n",
            "Done.\n",
            "Searching for \"count on me\" by Bruno mars...\n",
            "Done.\n",
            "Searching for \"cutthtroat\" by Imagine dragons...\n",
            "Done.\n",
            "Searching for \"warriors\" by Imagine dragons...\n",
            "Done.\n",
            "Searching for \"walking the wire\" by Imagine dragons...\n",
            "Done.\n",
            "Searching for \"shots\" by Imagine dragons...\n",
            "Done.\n",
            "Searching for \"release\" by Imagine dragons...\n",
            "Done.\n",
            "Searching for \"monster\" by Imagine dragons...\n",
            "Done.\n",
            "Searching for \"rise up\" by Imagine dragons...\n",
            "Done.\n",
            "Searching for \"stuck\" by Imagine dragons...\n",
            "Done.\n",
            "Searching for \"bleeding out\" by Imagine dragons...\n",
            "Done.\n",
            "Searching for \"i'm so sorry\" by Imagine dragons...\n",
            "Done.\n",
            "Searching for \"roots\" by Imagine dragons...\n",
            "Done.\n",
            "Searching for \"battle cry\" by Imagine dragons...\n",
            "Done.\n",
            "Searching for \"bullet in a gun\" by Imagine dragons...\n",
            "Done.\n",
            "Searching for \"friction\" by Imagine dragons...\n",
            "Done.\n",
            "Searching for \"everybody\" by Backstreet boys...\n",
            "Done.\n",
            "Searching for \"shape of my heart\" by Backstreet boys...\n",
            "Done.\n",
            "Searching for \"show me the meaning of being lonely\" by Backstreet boys...\n",
            "Done.\n",
            "Searching for \"can i have this dance\" by High school musical cast...\n",
            "Done.\n",
            "Searching for \"we're all in this together\" by High school musical cast...\n",
            "Done.\n",
            "Searching for \"start something new\" by High school musical cast...\n",
            "Done.\n",
            "Searching for \"stick to the status quo\" by High school musical cast...\n",
            "Done.\n",
            "Searching for \"when there was me and you \" by High school musical cast...\n",
            "Done.\n",
            "Searching for \"bop to the top\" by High school musical cast...\n",
            "Done.\n",
            "Searching for \"breaking free\" by High school musical cast...\n",
            "Done.\n",
            "Searching for \"gotta go my own way\" by High school musical cast...\n",
            "Done.\n",
            "Searching for \"bet on it\" by High school musical cast...\n",
            "Done.\n",
            "Searching for \"everyday\" by High school musical cast...\n",
            "Done.\n",
            "Searching for \"all for one \" by High school musical cast...\n",
            "Done.\n",
            "Searching for \"now or never\" by High school musical cast...\n",
            "Done.\n",
            "Searching for \"fabulous\" by High school musical cast...\n",
            "Done.\n",
            "Searching for \"dark horse\" by Katy perry...\n",
            "Done.\n",
            "Searching for \"eletric\" by Katy perry...\n",
            "Done.\n",
            "Searching for \"firework\" by Katy perry...\n",
            "Done.\n",
            "Searching for \"california gurls\" by Katy perry...\n",
            "Done.\n",
            "Searching for \"hot n cold\" by Katy perry...\n",
            "Done.\n",
            "Searching for \"smile\" by Katy perry...\n",
            "Done.\n",
            "Searching for \"roar\" by Katy perry...\n",
            "Done.\n",
            "Searching for \"part of me\" by Katy perry...\n",
            "Done.\n",
            "Searching for \"22\" by Taylor swift...\n",
            "Done.\n",
            "Searching for \"hoax\" by Taylor swift...\n",
            "Done.\n",
            "Searching for \"the man\" by Taylor swift...\n",
            "Done.\n",
            "Searching for \"chiquitita\" by Abba...\n",
            "Done.\n",
            "Searching for \"lay all your love on me\" by Abba...\n",
            "Done.\n",
            "Searching for \"the winner takes it all\" by Abba...\n",
            "Done.\n",
            "Searching for \"super trouper\" by Abba...\n",
            "Done.\n",
            "Searching for \"sos\" by Abba...\n",
            "Done.\n",
            "Searching for \"halo\" by Beyoncé...\n",
            "Done.\n",
            "Searching for \"love on top\" by Beyoncé...\n",
            "Done.\n",
            "Searching for \"accidentally in love\" by Counting crows...\n",
            "Done.\n",
            "Searching for \"glad you came\" by The wanted...\n",
            "Done.\n",
            "Searching for \"all about that bass\" by Meghan trainor...\n",
            "Done.\n",
            "Searching for \"rude\" by Magic!...\n",
            "Done.\n",
            "Searching for \"good life\" by Onerepublic...\n",
            "Done.\n",
            "Searching for \"what makes you beautiful\" by One direction...\n",
            "Done.\n",
            "Searching for \"shape of you\" by Ed sheeran...\n",
            "Done.\n",
            "Searching for \"perfect\" by Ed sheeran...\n",
            "Done.\n",
            "Searching for \"thinking out loud\" by Ed sheeran...\n",
            "Done.\n",
            "Searching for \"happier\" by Ed sheeran...\n",
            "Done.\n",
            "Searching for \"don't\" by Ed sheeran...\n",
            "Done.\n",
            "Searching for \"all of me\" by John legend...\n",
            "Done.\n",
            "Searching for \"let her go\" by Passenger...\n",
            "Done.\n",
            "Searching for \"someone like you\" by Adele...\n",
            "Done.\n",
            "Searching for \"fix you\" by Cold play...\n",
            "Done.\n",
            "Searching for \"sad songs say so much\" by Elton john...\n",
            "Done.\n",
            "Searching for \"the nights\" by Avicii...\n",
            "Done.\n",
            "Searching for \"i feel good\" by James brown...\n",
            "Done.\n",
            "Searching for \"imagine\" by John lennon...\n",
            "Done.\n",
            "Searching for \"it's my life\" by Bon jovi...\n",
            "Done.\n",
            "Searching for \"hero\" by Mariah carey...\n",
            "Done.\n",
            "Searching for \"man in the mirror\" by Michael jackson...\n",
            "Done.\n",
            "Searching for \"love of my life\" by Queen...\n",
            "Done.\n",
            "Searching for \"somebody to love\" by Queen...\n",
            "Done.\n",
            "Searching for \"if i ain't got you\" by Alicia keys...\n",
            "Done.\n",
            "Searching for \"girl on fire\" by Alicia keys...\n",
            "Done.\n",
            "Searching for \"i gotta feeling\" by Black eyed peas...\n",
            "Done.\n",
            "Searching for \"where is the love?\" by Black eyed peas...\n",
            "Done.\n",
            "Searching for \"the time\" by Black eyed peas...\n",
            "Done.\n",
            "Searching for \"don't worry be happy\" by Bobby mcferrin...\n",
            "Done.\n",
            "Searching for \"i will survive\" by Gloria gaynor...\n",
            "Done.\n",
            "Searching for \"follow your heart\" by Triumph...\n",
            "Done.\n"
          ],
          "name": "stdout"
        }
      ]
    },
    {
      "cell_type": "code",
      "metadata": {
        "colab": {
          "base_uri": "https://localhost:8080/"
        },
        "id": "fUtdiA0SgunP",
        "outputId": "7b1debd5-af77-4711-fe6a-ba4bd00c8db9"
      },
      "source": [
        "data.isna().sum()\n"
      ],
      "execution_count": 28,
      "outputs": [
        {
          "output_type": "execute_result",
          "data": {
            "text/plain": [
              "track_name      0\n",
              "artist_name     0\n",
              "label          15\n",
              "lyrics          1\n",
              "dtype: int64"
            ]
          },
          "metadata": {
            "tags": []
          },
          "execution_count": 28
        }
      ]
    },
    {
      "cell_type": "code",
      "metadata": {
        "colab": {
          "base_uri": "https://localhost:8080/",
          "height": 204
        },
        "id": "IaST0ZAmi--k",
        "outputId": "1b9943be-09ec-4e97-a7a2-738f2c88df2a"
      },
      "source": [
        "data.head()"
      ],
      "execution_count": 29,
      "outputs": [
        {
          "output_type": "execute_result",
          "data": {
            "text/html": [
              "<div>\n",
              "<style scoped>\n",
              "    .dataframe tbody tr th:only-of-type {\n",
              "        vertical-align: middle;\n",
              "    }\n",
              "\n",
              "    .dataframe tbody tr th {\n",
              "        vertical-align: top;\n",
              "    }\n",
              "\n",
              "    .dataframe thead th {\n",
              "        text-align: right;\n",
              "    }\n",
              "</style>\n",
              "<table border=\"1\" class=\"dataframe\">\n",
              "  <thead>\n",
              "    <tr style=\"text-align: right;\">\n",
              "      <th></th>\n",
              "      <th>track_name</th>\n",
              "      <th>artist_name</th>\n",
              "      <th>label</th>\n",
              "      <th>lyrics</th>\n",
              "    </tr>\n",
              "  </thead>\n",
              "  <tbody>\n",
              "    <tr>\n",
              "      <th>0</th>\n",
              "      <td>one step closer</td>\n",
              "      <td>Linkin park</td>\n",
              "      <td>anger</td>\n",
              "      <td>I cannot take this anymore\\nSaying everything ...</td>\n",
              "    </tr>\n",
              "    <tr>\n",
              "      <th>1</th>\n",
              "      <td>crawling</td>\n",
              "      <td>Linkin park</td>\n",
              "      <td>sadness</td>\n",
              "      <td>Crawling in my skin\\nThese wounds, they will n...</td>\n",
              "    </tr>\n",
              "    <tr>\n",
              "      <th>2</th>\n",
              "      <td>x gon' give it to ya</td>\n",
              "      <td>Dmx</td>\n",
              "      <td>happiness</td>\n",
              "      <td>Arf-arf\\nYeah, uh, yeah (Grr), yeah, uh (Grr)\\...</td>\n",
              "    </tr>\n",
              "    <tr>\n",
              "      <th>3</th>\n",
              "      <td>the pretender</td>\n",
              "      <td>Foo fighters</td>\n",
              "      <td>happiness</td>\n",
              "      <td>Keep you in the dark, you know they all preten...</td>\n",
              "    </tr>\n",
              "    <tr>\n",
              "      <th>4</th>\n",
              "      <td>boilermaker</td>\n",
              "      <td>Royal blood</td>\n",
              "      <td>happiness</td>\n",
              "      <td>I was looking for some kind of saviour\\nSomeon...</td>\n",
              "    </tr>\n",
              "  </tbody>\n",
              "</table>\n",
              "</div>"
            ],
            "text/plain": [
              "             track_name  ...                                             lyrics\n",
              "0       one step closer  ...  I cannot take this anymore\\nSaying everything ...\n",
              "1              crawling  ...  Crawling in my skin\\nThese wounds, they will n...\n",
              "2  x gon' give it to ya  ...  Arf-arf\\nYeah, uh, yeah (Grr), yeah, uh (Grr)\\...\n",
              "3         the pretender  ...  Keep you in the dark, you know they all preten...\n",
              "4           boilermaker  ...  I was looking for some kind of saviour\\nSomeon...\n",
              "\n",
              "[5 rows x 4 columns]"
            ]
          },
          "metadata": {
            "tags": []
          },
          "execution_count": 29
        }
      ]
    },
    {
      "cell_type": "code",
      "metadata": {
        "id": "IilFQEf-jDT6"
      },
      "source": [
        "data['lyrics'] = data.lyrics.str.replace('\\n', ' ')\n",
        "data.to_csv('data_much_better.csv',index=False, sep=';')"
      ],
      "execution_count": 38,
      "outputs": []
    },
    {
      "cell_type": "code",
      "metadata": {
        "id": "ogOkB9_EjGp_"
      },
      "source": [
        "test = pd.read_csv('data_much_better.csv',sep=';')"
      ],
      "execution_count": 33,
      "outputs": []
    },
    {
      "cell_type": "code",
      "metadata": {
        "colab": {
          "base_uri": "https://localhost:8080/"
        },
        "id": "2t_MGjPskKjQ",
        "outputId": "04dffe1a-19a1-4857-c150-5501ae435867"
      },
      "source": [
        "test.lyrics.str.replace('\\n', ' ')"
      ],
      "execution_count": 36,
      "outputs": [
        {
          "output_type": "execute_result",
          "data": {
            "text/plain": [
              "0      I cannot take this anymore Saying everything I...\n",
              "1      Crawling in my skin These wounds, they will no...\n",
              "2      Arf-arf Yeah, uh, yeah (Grr), yeah, uh (Grr) Y...\n",
              "3      Keep you in the dark, you know they all preten...\n",
              "4      I was looking for some kind of saviour Someone...\n",
              "                             ...                        \n",
              "345    What's wrong with the world, Mama? People livi...\n",
              "346    Party all the time, party all the time​ Party ...\n",
              "347    Here's a little song I wrote You might want to...\n",
              "348    At first I was afraid, I was petrified Kept th...\n",
              "349    People say Don't ever look behind Happiness is...\n",
              "Name: lyrics, Length: 350, dtype: object"
            ]
          },
          "metadata": {
            "tags": []
          },
          "execution_count": 36
        }
      ]
    },
    {
      "cell_type": "code",
      "metadata": {
        "id": "ih3eQyhrkNMk"
      },
      "source": [
        ""
      ],
      "execution_count": null,
      "outputs": []
    }
  ]
}