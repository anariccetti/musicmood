{
 "cells": [
  {
   "cell_type": "code",
   "execution_count": 1,
   "metadata": {
    "id": "D0WEPyQ4CITg"
   },
   "outputs": [],
   "source": [
    "import pandas as pd\n",
    "import numpy as np\n",
    "import requests\n",
    "from bs4 import BeautifulSoup"
   ]
  },
  {
   "cell_type": "markdown",
   "metadata": {
    "id": "NvZ-e-alCJf4"
   },
   "source": [
    "def scrape_lyrics(artistname, songname, i=0):\n",
    "        artistname_clean = str(artistname.replace(' ','-')) if ' ' in artistname else str(artistname)\n",
    "        songname_clean = str(songname.replace(' ','-')) if ' ' in songname else str(songname)\n",
    "        url ='https://genius.com/'+ artistname_clean + '-' + songname_clean + '-' + 'lyrics'\n",
    "        page = requests.get(url)\n",
    "        html = BeautifulSoup(page.text, 'html.parser')\n",
    "        lyrics1 = html.find(\"div\", class_=\"lyrics\")\n",
    "        lyrics2 = html.find(\"div\", class_=\"Lyrics__Container-sc-1ynbvzw-8 eOLwDW\")\n",
    "        if lyrics1:\n",
    "            lyrics = lyrics1.get_text()\n",
    "        elif lyrics2:\n",
    "            lyrics = lyrics2.get_text()\n",
    "\n",
    "        elif lyrics1 == lyrics2 == None and i  < 3:\n",
    "            i += 1\n",
    "            lyrics = scrape_lyrics(artistname.title(), songname.title(), i)\n",
    "        else:\n",
    "            print(\"Lyrics Not Found\")\n",
    "            lyrics = None\n",
    "        return lyrics"
   ]
  },
  {
   "cell_type": "markdown",
   "metadata": {
    "id": "zfvk7Ok8GY_W"
   },
   "source": [
    "r = scrape_lyrics(\"Metallica\", 'fuel', i=0)\n",
    "r"
   ]
  },
  {
   "cell_type": "code",
   "execution_count": 2,
   "metadata": {
    "id": "g-nvKipXCOFO"
   },
   "outputs": [
    {
     "data": {
      "text/html": [
       "<div>\n",
       "<style scoped>\n",
       "    .dataframe tbody tr th:only-of-type {\n",
       "        vertical-align: middle;\n",
       "    }\n",
       "\n",
       "    .dataframe tbody tr th {\n",
       "        vertical-align: top;\n",
       "    }\n",
       "\n",
       "    .dataframe thead th {\n",
       "        text-align: right;\n",
       "    }\n",
       "</style>\n",
       "<table border=\"1\" class=\"dataframe\">\n",
       "  <thead>\n",
       "    <tr style=\"text-align: right;\">\n",
       "      <th></th>\n",
       "      <th>track_name</th>\n",
       "      <th>artist_name</th>\n",
       "    </tr>\n",
       "  </thead>\n",
       "  <tbody>\n",
       "    <tr>\n",
       "      <th>0</th>\n",
       "      <td>...and justice for all</td>\n",
       "      <td>Metallica</td>\n",
       "    </tr>\n",
       "    <tr>\n",
       "      <th>1</th>\n",
       "      <td>a.y.o. technology</td>\n",
       "      <td>Justin timberlake</td>\n",
       "    </tr>\n",
       "    <tr>\n",
       "      <th>2</th>\n",
       "      <td>accidentally in love</td>\n",
       "      <td>Counting crows</td>\n",
       "    </tr>\n",
       "    <tr>\n",
       "      <th>3</th>\n",
       "      <td>All I Wanna do is make love to you</td>\n",
       "      <td>Heart</td>\n",
       "    </tr>\n",
       "    <tr>\n",
       "      <th>4</th>\n",
       "      <td>all nighmare long</td>\n",
       "      <td>Metallica</td>\n",
       "    </tr>\n",
       "  </tbody>\n",
       "</table>\n",
       "</div>"
      ],
      "text/plain": [
       "                           track_name        artist_name\n",
       "0              ...and justice for all          Metallica\n",
       "1                   a.y.o. technology  Justin timberlake\n",
       "2                accidentally in love     Counting crows\n",
       "3  All I Wanna do is make love to you              Heart\n",
       "4                   all nighmare long          Metallica"
      ]
     },
     "execution_count": 2,
     "metadata": {},
     "output_type": "execute_result"
    }
   ],
   "source": [
    "data = pd.read_csv('Book6.csv')\n",
    "data.head()"
   ]
  },
  {
   "cell_type": "code",
   "execution_count": 3,
   "metadata": {},
   "outputs": [
    {
     "data": {
      "text/plain": [
       "(200, 2)"
      ]
     },
     "execution_count": 3,
     "metadata": {},
     "output_type": "execute_result"
    }
   ],
   "source": [
    "data.shape"
   ]
  },
  {
   "cell_type": "code",
   "execution_count": null,
   "metadata": {
    "id": "sG7kNL_vEpfN"
   },
   "outputs": [],
   "source": [
    "data['track_name'] = data['track_name'].str.lower()\n",
    "data['artist_name'] = data['artist_name'].str.lower()\n",
    "data['artist_name'] = data['artist_name'].str.capitalize()"
   ]
  },
  {
   "cell_type": "code",
   "execution_count": null,
   "metadata": {
    "id": "gZ7AzapzCx-x"
   },
   "outputs": [],
   "source": [
    "data['lyrics'] = np.nan"
   ]
  },
  {
   "cell_type": "markdown",
   "metadata": {
    "colab": {
     "base_uri": "https://localhost:8080/"
    },
    "id": "2GmjRY32Ce3S",
    "outputId": "3cb5687e-6292-40b5-dd54-5f6dc032d7c0"
   },
   "source": [
    "for i, row in data.iterrows():\n",
    "    print(\"doing for song\", i)\n",
    "    data.loc[i, 'lyrics'] = scrape_lyrics(row['artist_name'], row['track_name'])"
   ]
  },
  {
   "cell_type": "markdown",
   "metadata": {
    "colab": {
     "base_uri": "https://localhost:8080/"
    },
    "id": "Zt-hefU0EeP6",
    "outputId": "58a4ca7d-4760-4ae9-cb47-94dea259e6a5"
   },
   "source": [
    "data.isna().sum()"
   ]
  },
  {
   "cell_type": "markdown",
   "metadata": {
    "id": "T2cbELogLjJf"
   },
   "source": [
    "data.to_csv('data.csv',index=False)"
   ]
  },
  {
   "cell_type": "code",
   "execution_count": 4,
   "metadata": {
    "colab": {
     "base_uri": "https://localhost:8080/"
    },
    "id": "xF3pQGKYfG-p",
    "outputId": "6b1921b6-716c-4314-dc2b-fa81b5379d51"
   },
   "outputs": [
    {
     "name": "stdout",
     "output_type": "stream",
     "text": [
      "Requirement already satisfied: lyricsgenius in /Users/anariccetti/.pyenv/versions/3.8.6/envs/musicmood/lib/python3.8/site-packages (3.0.1)\r\n",
      "Requirement already satisfied: beautifulsoup4>=4.6.0 in /Users/anariccetti/.pyenv/versions/3.8.6/envs/musicmood/lib/python3.8/site-packages (from lyricsgenius) (4.9.3)\r\n",
      "Requirement already satisfied: requests>=2.20.0 in /Users/anariccetti/.pyenv/versions/3.8.6/envs/musicmood/lib/python3.8/site-packages (from lyricsgenius) (2.25.1)\r\n",
      "Requirement already satisfied: soupsieve>1.2 in /Users/anariccetti/.pyenv/versions/3.8.6/envs/musicmood/lib/python3.8/site-packages (from beautifulsoup4>=4.6.0->lyricsgenius) (2.2.1)\r\n",
      "Requirement already satisfied: idna<3,>=2.5 in /Users/anariccetti/.pyenv/versions/3.8.6/envs/musicmood/lib/python3.8/site-packages (from requests>=2.20.0->lyricsgenius) (2.10)\r\n",
      "Requirement already satisfied: certifi>=2017.4.17 in /Users/anariccetti/.pyenv/versions/3.8.6/envs/musicmood/lib/python3.8/site-packages (from requests>=2.20.0->lyricsgenius) (2021.5.30)\r\n",
      "Requirement already satisfied: chardet<5,>=3.0.2 in /Users/anariccetti/.pyenv/versions/3.8.6/envs/musicmood/lib/python3.8/site-packages (from requests>=2.20.0->lyricsgenius) (4.0.0)\r\n",
      "Requirement already satisfied: urllib3<1.27,>=1.21.1 in /Users/anariccetti/.pyenv/versions/3.8.6/envs/musicmood/lib/python3.8/site-packages (from requests>=2.20.0->lyricsgenius) (1.26.6)\r\n"
     ]
    }
   ],
   "source": [
    "!pip install lyricsgenius"
   ]
  },
  {
   "cell_type": "code",
   "execution_count": 5,
   "metadata": {
    "id": "8i4mYtcZNDwe"
   },
   "outputs": [],
   "source": [
    "import lyricsgenius as lg"
   ]
  },
  {
   "cell_type": "code",
   "execution_count": 6,
   "metadata": {
    "id": "eSGEsXFnfFm-"
   },
   "outputs": [],
   "source": [
    "genius = lg.Genius('', skip_non_songs=True, excluded_terms=[\"(Remix)\", \"(Live)\"], remove_section_headers=True)"
   ]
  },
  {
   "cell_type": "code",
   "execution_count": 7,
   "metadata": {
    "colab": {
     "base_uri": "https://localhost:8080/"
    },
    "id": "Z8MHN17TfTy-",
    "outputId": "3e1fdcf5-5eee-4e0a-9c72-5738f35fb66b"
   },
   "outputs": [
    {
     "name": "stdout",
     "output_type": "stream",
     "text": [
      "Searching for \"Fuel\" by Metallica...\n",
      "Done.\n"
     ]
    },
    {
     "data": {
      "text/plain": [
       "\"Give me fuel, give me fire\\nGive me that which I desire, ooh!\\n\\nYeah\\nTurn on, I see red\\nAdrenaline crash and crack my head\\nNitro junkie, paint me dead\\nAnd I see red\\nA hundred plus through black and white\\nWar horse, warhead\\nFuck 'em man, white-knuckle tight\\nThrough black and white\\n\\nOoh, on I burn\\nFuel is pumping engines\\nBurning hard, loose and clean\\nAnd I burn, churning my direction\\nQuench my thirst with gasoline\\nSo give me fuel, give me fire\\nGive me that which I desire\\nHey!\\n\\nTurn on beyond the bone\\nSwallow future, spit out home\\nBurn your face upon the chrome\\nYeah!\\nTake the corner, join the crash\\nHeadlights, headlines\\nAnother Junkie lives too fast\\nYeah lives way too fast, fast, fast, ooh\\n\\nOoh, on I burn\\nFuel is pumping engines\\nBurning hard, loose and clean\\nAnd I burn, churning my direction\\nQuench my thirst with gasoline\\nSo give me fuel, give me fire\\nGive me that which I desire, ooh, yeah-heh\\nWhite knuckle tight!\\n\\n\\nGive me fuel (On I burn, on and on)\\nGive me fire (On I burn, on and on)\\nMy desire (On I burn, on and on)\\n\\nOoh, on I burn\\nFuel is pumping engines\\nBurning hard, loose and clean\\nAnd I burn, churning my direction\\nQuench my thirst with gasoline\\nSo give me fuel, give me fire\\nGive me that which I desire\\nOn I burn\""
      ]
     },
     "execution_count": 7,
     "metadata": {},
     "output_type": "execute_result"
    }
   ],
   "source": [
    "r = genius.search_song(title='Fuel',artist='Metallica')\n",
    "r.lyrics"
   ]
  },
  {
   "cell_type": "code",
   "execution_count": 8,
   "metadata": {
    "colab": {
     "base_uri": "https://localhost:8080/"
    },
    "id": "U2hRQiFLfmnx",
    "outputId": "f9e25a60-103d-49b2-e1ef-678457fd2420"
   },
   "outputs": [
    {
     "name": "stdout",
     "output_type": "stream",
     "text": [
      "Searching for \"...and justice for all\" by Metallica...\n",
      "Done.\n",
      "Searching for \"a.y.o. technology\" by Justin timberlake...\n",
      "Done.\n",
      "Searching for \"accidentally in love\" by Counting crows...\n",
      "Done.\n",
      "Searching for \"All I Wanna do is make love to you\" by Heart...\n",
      "Done.\n",
      "Searching for \"all nighmare long\" by Metallica...\n",
      "Done.\n",
      "Searching for \"all of me\" by John legend...\n",
      "Done.\n",
      "Searching for \"alone i break\" by Korn...\n",
      "Done.\n",
      "Searching for \"american idiot\" by Green day...\n",
      "Done.\n",
      "Searching for \"anarchy in the uk\" by Sex pistols...\n",
      "Done.\n",
      "Searching for \"anthem part two\" by Blink-182...\n",
      "Done.\n",
      "Searching for \"antichrist superstar\" by Marilyn manson...\n",
      "Done.\n",
      "Searching for \"b.y.o.b.\" by System of a down...\n",
      "Done.\n",
      "Searching for \"bad blood\" by taylor swift...\n",
      "Done.\n",
      "Searching for \"battery\" by Metallica...\n",
      "Done.\n",
      "Searching for \"Best Day Of My Life\" by American Authors...\n",
      "Done.\n",
      "Searching for \"best of you\" by Foo fighters...\n",
      "Done.\n",
      "Searching for \"beyond the sea\" by bobby darin...\n",
      "Done.\n",
      "Searching for \"biko\" by Peter gabriel...\n",
      "Done.\n",
      "Searching for \"billionaire\" by Bruno mars...\n",
      "Done.\n",
      "Searching for \"bring me to life\" by Evanescence...\n",
      "Done.\n",
      "Searching for \"california gurls\" by Katy perry...\n",
      "Done.\n",
      "Searching for \"call me when you're sober\" by Evanescence...\n",
      "Done.\n",
      "Searching for \"Can't Stop The Feeling\" by Justin Timberlake...\n",
      "Done.\n",
      "Searching for \"chiquitita\" by Abba...\n",
      "Done.\n",
      "Searching for \"chop suey\" by System of a down...\n",
      "Done.\n",
      "Searching for \"cleanin' out my closet\" by Eminem...\n",
      "Done.\n",
      "Searching for \"come out and play\" by The offspring...\n",
      "Done.\n",
      "Searching for \"Come To Me\" by Goo Goo Dolls...\n",
      "Done.\n",
      "Searching for \"count on me\" by Bruno mars...\n",
      "Done.\n",
      "Searching for \"crazy little thing called love\" by Queen...\n",
      "Done.\n",
      "Searching for \"creep\" by Radiohead...\n",
      "Done.\n",
      "Searching for \"Crush\" by Dave Matthews Band...\n",
      "Done.\n",
      "Searching for \"daffodil lament\" by The cranberries...\n",
      "Done.\n",
      "Searching for \"dancing queen\" by Abba...\n",
      "Done.\n",
      "Searching for \"dancing with a stranger\" by Sam smith...\n",
      "Done.\n",
      "Searching for \"diamonds\" by Rihanna...\n",
      "Done.\n",
      "Searching for \"disposable heroes\" by Metallica...\n",
      "Done.\n",
      "Searching for \"dog days are over\" by Florence + the machine...\n",
      "Done.\n",
      "Searching for \"don't stop believin'\" by Journey...\n",
      "Done.\n",
      "Searching for \"don't stop me now\" by Queen...\n",
      "Done.\n",
      "Searching for \"don't tread on me\" by Metallica...\n",
      "Done.\n",
      "Searching for \"don't worry be happy\" by Bobby mcferrin...\n",
      "Done.\n",
      "Searching for \"downtown\" by petula clark...\n",
      "Done.\n",
      "Searching for \"dream no more\" by Metallica...\n",
      "Done.\n",
      "Searching for \"Drunk in Love\" by Beyonce...\n",
      "Done.\n",
      "Searching for \"duality\" by Slipknot...\n",
      "Done.\n",
      "Searching for \"Endeless Love\" by Lionel Richie...\n",
      "Done.\n",
      "Searching for \"everybody\" by Backstreet boys...\n",
      "Done.\n",
      "Searching for \"fast car\" by Tracy chapman...\n",
      "Done.\n",
      "Searching for \"fetish\" by Selena gomez...\n",
      "Done.\n",
      "Searching for \"fight fire with fire\" by Metallica...\n",
      "Done.\n",
      "Searching for \"fix you\" by Cold play...\n",
      "Done.\n",
      "Searching for \"frantic\" by metallica...\n",
      "Done.\n",
      "Searching for \"free to decide\" by The cranberries...\n",
      "Done.\n",
      "Searching for \"fuck you\" by cee lo green...\n",
      "Done.\n",
      "Searching for \"fuck you\" by Lily allen...\n",
      "Done.\n",
      "Searching for \"fuel\" by Metallica...\n",
      "Done.\n",
      "Searching for \"girls just wanna have fun\" by Cyndi lauper...\n",
      "Done.\n",
      "Searching for \"glad you came\" by The wanted...\n",
      "Done.\n",
      "Searching for \"glory of love\" by Peter cetera...\n",
      "Done.\n",
      "Searching for \"going under\" by Evanescence...\n",
      "Done.\n",
      "Searching for \"good 4 u\" by olivia rodrigo...\n",
      "Done.\n",
      "Searching for \"good for you\" by Selena gomez...\n",
      "Done.\n",
      "Searching for \"Good Vibrations\" by The Beach Boys...\n",
      "Done.\n",
      "Searching for \"goodbye\" by Apparat...\n",
      "Done.\n",
      "Searching for \"grenade\" by Bruno mars...\n",
      "Done.\n",
      "Searching for \"halo\" by Beyonce...\n",
      "Done.\n",
      "Searching for \"happy\" by Pharrell williams...\n",
      "Done.\n",
      "Searching for \"hardwired\" by Metallica...\n",
      "Done.\n",
      "Searching for \"heal me\" by Lady gaga...\n",
      "Done.\n",
      "Searching for \"heartbreak warfare\" by John mayer...\n",
      "Done.\n",
      "Searching for \"heaven\" by Bryan adams...\n",
      "Done.\n",
      "Searching for \"here comes the sun\" by The beatles...\n",
      "Done.\n",
      "Searching for \"here without you\" by 3 doors down...\n",
      "Done.\n",
      "Searching for \"hey ya!\" by Outkast...\n",
      "Done.\n",
      "Searching for \"hide and seek\" by Imogen heap...\n",
      "Done.\n",
      "Searching for \"i don't want to talk about it\" by Rod stewart...\n",
      "Done.\n",
      "Searching for \"i feel good\" by James brown...\n",
      "Done.\n",
      "Searching for \"I Got You (I Feel Good)\" by James Brown...\n",
      "Done.\n",
      "Searching for \"I Love You Always Forever\" by Donna Lewis...\n",
      "Done.\n",
      "Searching for \"I'll make love to you\" by Boyz II MEN...\n",
      "Done.\n",
      "Searching for \"i'm not the only one\" by Sam smith...\n",
      "Done.\n",
      "Searching for \"ignorance\" by Paramore...\n",
      "Done.\n",
      "Searching for \"imagine\" by John lennon...\n",
      "Done.\n",
      "Searching for \"in the end\" by Linkin park...\n",
      "Done.\n",
      "Searching for \"is this love\" by bob marley...\n",
      "Done.\n",
      "Searching for \"is this love\" by whitesnake...\n",
      "Done.\n",
      "Searching for \"it will rain\" by Bruno mars...\n",
      "Done.\n",
      "Searching for \"it's my life\" by Bon jovi...\n",
      "Done.\n",
      "Searching for \"johnny b. goode\" by Chuck berry...\n",
      "Searching for \"jump\" by Van halen...\n",
      "Done.\n",
      "Searching for \"just the way you are\" by Bruno mars...\n",
      "Done.\n",
      "Searching for \"killing in the name\" by Rage against the machine...\n",
      "Done.\n",
      "Searching for \"king nothing\" by Metallica...\n",
      "Done.\n",
      "Searching for \"kiss me\" by Ed sheeran...\n",
      "Done.\n",
      "Searching for \"let me love you\" by Mario...\n",
      "Done.\n",
      "Searching for \"Let's Go Crazy\" by Prince...\n",
      "Done.\n",
      "Searching for \"Let's Stay together\" by Al Green...\n",
      "Done.\n",
      "Searching for \"like a stone\" by Audioslave...\n",
      "Done.\n",
      "Searching for \"Like a virgin\" by Madonna...\n",
      "Done.\n",
      "Searching for \"listen before i go\" by Billie eilish...\n",
      "Done.\n",
      "Searching for \"livin' la vida loca\" by Ricky martin...\n",
      "Done.\n",
      "Searching for \"locked out of heaven\" by Bruno mars...\n",
      "Done.\n",
      "Searching for \"lonely\" by Akon...\n",
      "Done.\n",
      "Searching for \"look what you made me do\" by taylor swift...\n",
      "Done.\n",
      "Searching for \"lost cause\" by billie eilish...\n",
      "Done.\n",
      "Searching for \"love of my life\" by Queen...\n",
      "Done.\n",
      "Searching for \"love on top\" by Beyonce...\n",
      "Done.\n",
      "Searching for \"love sex magic\" by Ciara...\n",
      "Done.\n",
      "Searching for \"lovely\" by Billie ellish...\n",
      "Done.\n",
      "Searching for \"marry you\" by Bruno mars...\n",
      "Done.\n",
      "Searching for \"marvin gaye\" by Charlie puth...\n",
      "Done.\n",
      "Searching for \"master of puppets\" by Metallica...\n",
      "Done.\n",
      "Searching for \"midlife crisis\" by Faith no more...\n",
      "Done.\n",
      "Searching for \"mind your own business\" by delta 5...\n",
      "Done.\n",
      "Searching for \"miss independent\" by Ne yo...\n",
      "Done.\n",
      "Searching for \"mockingbird\" by Eminem...\n",
      "Done.\n",
      "Searching for \"mr. jones\" by Counting crows...\n",
      "Done.\n",
      "Searching for \"My Girl\" by The Temptation...\n",
      "Done.\n",
      "Searching for \"my immortal\" by Evanescence...\n",
      "Done.\n",
      "Searching for \"my sacrifice\" by Creed...\n",
      "Done.\n",
      "Searching for \"obsessed\" by Mariah carey...\n",
      "Done.\n",
      "Searching for \"one\" by Metallica...\n",
      "Done.\n",
      "Searching for \"one last breath\" by Creed...\n",
      "Done.\n",
      "Searching for \"original prankster\" by The offspring...\n",
      "Done.\n",
      "Searching for \"p.d.a.\" by John legend...\n",
      "Done.\n",
      "Searching for \"painkiller\" by Judas priest...\n",
      "Done.\n",
      "Searching for \"perfect\" by Ed sheeran...\n",
      "Done.\n",
      "Searching for \"Pocketful Of Sunshine\" by Natasha Bedingfield...\n",
      "Done.\n",
      "Searching for \"rain fall down\" by The rolling stones...\n",
      "Done.\n",
      "Searching for \"Raise Your Glass\" by Pink...\n",
      "Done.\n",
      "Searching for \"sabotage\" by Beastie boys...\n",
      "Done.\n",
      "Searching for \"sad but true\" by Metallica...\n",
      "Done.\n",
      "Searching for \"sad songs say so much\" by Elton john...\n",
      "Done.\n",
      "Searching for \"screaming for vengeance\" by Judas priest...\n",
      "Done.\n",
      "Searching for \"secret\" by Maroon 5...\n",
      "Done.\n",
      "Searching for \"seek & destroy\" by Metallica...\n",
      "Done.\n",
      "Searching for \"self esteem\" by The offspring...\n",
      "Done.\n",
      "Searching for \"September\" by Earth Wind and Fire...\n",
      "Done.\n",
      "Searching for \"sexual healing\" by Marvin gaye...\n",
      "Done.\n",
      "Searching for \"sexy love\" by Ne yo...\n",
      "Done.\n",
      "Searching for \"shake it off\" by taylor swift...\n",
      "Done.\n",
      "Searching for \"shape of my heart\" by Backstreet boys...\n",
      "Done.\n",
      "Searching for \"shape of you\" by Ed sheeran...\n",
      "Done.\n",
      "Searching for \"shiny happy people\" by r.e.m....\n",
      "Done.\n",
      "Searching for \"show me the meaning of being lonely\" by Backstreet boys...\n",
      "Done.\n",
      "Searching for \"Signed Sealed Delivered I’m Yours\" by Stevie Wonder...\n",
      "Specified song does not contain lyrics. Rejecting.\n",
      "Searching for \"singing in the rain\" by gene kelly...\n",
      "Done.\n",
      "Searching for \"skin\" by Rihanna...\n",
      "Done.\n",
      "Searching for \"smother\" by Daughter...\n",
      "Done.\n",
      "Searching for \"so sick\" by Ne yo...\n"
     ]
    },
    {
     "name": "stdout",
     "output_type": "stream",
     "text": [
      "Done.\n",
      "Searching for \"somebody that i used to know\" by Gotye...\n",
      "Done.\n",
      "Searching for \"somebody to love\" by Queen...\n",
      "Done.\n",
      "Searching for \"someone like you\" by Adele...\n",
      "Done.\n",
      "Searching for \"Something\" by The Beatles...\n",
      "Done.\n",
      "Searching for \"sos\" by Abba...\n",
      "Done.\n",
      "Searching for \"st. anger\" by Metallica...\n",
      "Done.\n",
      "Searching for \"stay together for the kids\" by Blink-182...\n",
      "Done.\n",
      "Searching for \"stay with me\" by Sam smith...\n",
      "Done.\n",
      "Searching for \"stop crying your heart out\" by Oasis...\n",
      "Done.\n",
      "Searching for \"super trouper\" by Abba...\n",
      "Done.\n",
      "Searching for \"talking to the moon\" by Bruno mars...\n",
      "Done.\n",
      "Searching for \"that was just your life\" by Metallica...\n",
      "Done.\n",
      "Searching for \"the beautiful people\" by Marilyn manson...\n",
      "Done.\n",
      "Searching for \"the boy who blocked his own shot\" by Brand new...\n",
      "Done.\n",
      "Searching for \"the edge of glory\" by Lady gaga...\n",
      "Done.\n",
      "Searching for \"the kids aren't alright\" by The offspring...\n",
      "Done.\n",
      "Searching for \"the nights\" by Avicii...\n",
      "Done.\n",
      "Searching for \"the pretender\" by Foo fighters...\n",
      "Done.\n",
      "Searching for \"the sound of silence\" by Simon & garfunkel...\n",
      "Done.\n",
      "Searching for \"the time\" by Black eyed peas...\n",
      "Done.\n",
      "Searching for \"the unforgiven\" by Metallica...\n",
      "Done.\n",
      "Searching for \"The Way You Look Tonight\" by Frank Sinatra...\n",
      "Done.\n",
      "Searching for \"the winner takes it all\" by Abba...\n",
      "Done.\n",
      "Searching for \"thinking out loud\" by Ed sheeran...\n",
      "Done.\n",
      "Searching for \"this love\" by Maroon 5...\n",
      "Done.\n",
      "Searching for \"thoughtless\" by Korn...\n",
      "Done.\n",
      "Searching for \"three little birds\" by bob marley...\n",
      "Done.\n",
      "Searching for \"times like these\" by Foo fighters...\n",
      "Done.\n",
      "Searching for \"To Love Somebody\" by Nina Simone...\n",
      "Done.\n",
      "Searching for \"total eclipse of the heart\" by Bonnie tyler...\n",
      "Done.\n",
      "Searching for \"toxic\" by Britney spears...\n",
      "Done.\n",
      "Searching for \"under the bridge\" by The red hot chili peppers...\n",
      "Done.\n",
      "Searching for \"Uptown Funk\" by Bruno Mars...\n",
      "Done.\n",
      "Searching for \"watermelon sugar\" by Harry styles...\n",
      "Done.\n",
      "Searching for \"we are the champions\" by Queen...\n",
      "Done.\n",
      "Searching for \"what a wonderful world\" by Louis armstrong...\n",
      "Done.\n",
      "Searching for \"what makes you beautiful\" by One direction...\n",
      "Done.\n",
      "Searching for \"When A Man Loves A Woman\" by Percy Sledge...\n",
      "Done.\n",
      "Searching for \"when i was your man\" by Bruno mars...\n",
      "Done.\n",
      "Searching for \"where is the love?\" by Black eyed peas...\n",
      "Done.\n",
      "Searching for \"wicked game\" by Chris isaac...\n",
      "Done.\n",
      "Searching for \"wildflowers\" by Tom petty...\n",
      "Done.\n",
      "Searching for \"y'all want a single\" by Korn...\n",
      "Done.\n",
      "Searching for \"Yellow\" by Coldplay...\n",
      "Done.\n",
      "Searching for \"you are free\" by Jimmy eat world...\n",
      "Done.\n",
      "Searching for \"you oughta know\" by Alanis morissette...\n",
      "Done.\n",
      "Searching for \"You've Got A Friend In Me\" by Randy Newman...\n",
      "Done.\n",
      "Searching for \"you've got another thing comin'\" by Judas priest...\n",
      "Done.\n",
      "Searching for \"your power\" by Billie eilish...\n",
      "Done.\n"
     ]
    }
   ],
   "source": [
    "for i, row in data.iterrows():\n",
    "    try:\n",
    "        data.loc[i, 'lyrics'] = genius.search_song(title=row['track_name'],artist=row['artist_name']).lyrics\n",
    "    except:\n",
    "        continue"
   ]
  },
  {
   "cell_type": "code",
   "execution_count": 11,
   "metadata": {},
   "outputs": [
    {
     "data": {
      "text/plain": [
       "(200, 3)"
      ]
     },
     "execution_count": 11,
     "metadata": {},
     "output_type": "execute_result"
    }
   ],
   "source": [
    "data.shape"
   ]
  },
  {
   "cell_type": "code",
   "execution_count": 9,
   "metadata": {
    "colab": {
     "base_uri": "https://localhost:8080/"
    },
    "id": "fUtdiA0SgunP",
    "outputId": "7b1debd5-af77-4711-fe6a-ba4bd00c8db9"
   },
   "outputs": [
    {
     "data": {
      "text/plain": [
       "track_name     0\n",
       "artist_name    0\n",
       "lyrics         2\n",
       "dtype: int64"
      ]
     },
     "execution_count": 9,
     "metadata": {},
     "output_type": "execute_result"
    }
   ],
   "source": [
    "data.isna().sum()"
   ]
  },
  {
   "cell_type": "code",
   "execution_count": 15,
   "metadata": {
    "colab": {
     "base_uri": "https://localhost:8080/",
     "height": 204
    },
    "id": "IaST0ZAmi--k",
    "outputId": "1b9943be-09ec-4e97-a7a2-738f2c88df2a"
   },
   "outputs": [
    {
     "data": {
      "text/html": [
       "<div>\n",
       "<style scoped>\n",
       "    .dataframe tbody tr th:only-of-type {\n",
       "        vertical-align: middle;\n",
       "    }\n",
       "\n",
       "    .dataframe tbody tr th {\n",
       "        vertical-align: top;\n",
       "    }\n",
       "\n",
       "    .dataframe thead th {\n",
       "        text-align: right;\n",
       "    }\n",
       "</style>\n",
       "<table border=\"1\" class=\"dataframe\">\n",
       "  <thead>\n",
       "    <tr style=\"text-align: right;\">\n",
       "      <th></th>\n",
       "      <th>track_name</th>\n",
       "      <th>artist_name</th>\n",
       "      <th>lyrics</th>\n",
       "    </tr>\n",
       "  </thead>\n",
       "  <tbody>\n",
       "    <tr>\n",
       "      <th>0</th>\n",
       "      <td>...and justice for all</td>\n",
       "      <td>Metallica</td>\n",
       "      <td>Halls of justice painted green, money talking\\...</td>\n",
       "    </tr>\n",
       "    <tr>\n",
       "      <th>1</th>\n",
       "      <td>a.y.o. technology</td>\n",
       "      <td>Justin timberlake</td>\n",
       "      <td>Somethin' special\\nUnforgettable\\n50 Cent (Cen...</td>\n",
       "    </tr>\n",
       "    <tr>\n",
       "      <th>2</th>\n",
       "      <td>accidentally in love</td>\n",
       "      <td>Counting crows</td>\n",
       "      <td>So, she said, \"What's the problem, baby?\"\\nWha...</td>\n",
       "    </tr>\n",
       "    <tr>\n",
       "      <th>3</th>\n",
       "      <td>All I Wanna do is make love to you</td>\n",
       "      <td>Heart</td>\n",
       "      <td>It was a rainy night\\nWhen he came into sight\\...</td>\n",
       "    </tr>\n",
       "    <tr>\n",
       "      <th>4</th>\n",
       "      <td>all nighmare long</td>\n",
       "      <td>Metallica</td>\n",
       "      <td>One, two\\nOne, two\\nLuck runs out\\n\\nCrawl fro...</td>\n",
       "    </tr>\n",
       "  </tbody>\n",
       "</table>\n",
       "</div>"
      ],
      "text/plain": [
       "                           track_name        artist_name  \\\n",
       "0              ...and justice for all          Metallica   \n",
       "1                   a.y.o. technology  Justin timberlake   \n",
       "2                accidentally in love     Counting crows   \n",
       "3  All I Wanna do is make love to you              Heart   \n",
       "4                   all nighmare long          Metallica   \n",
       "\n",
       "                                              lyrics  \n",
       "0  Halls of justice painted green, money talking\\...  \n",
       "1  Somethin' special\\nUnforgettable\\n50 Cent (Cen...  \n",
       "2  So, she said, \"What's the problem, baby?\"\\nWha...  \n",
       "3  It was a rainy night\\nWhen he came into sight\\...  \n",
       "4  One, two\\nOne, two\\nLuck runs out\\n\\nCrawl fro...  "
      ]
     },
     "execution_count": 15,
     "metadata": {},
     "output_type": "execute_result"
    }
   ],
   "source": [
    "data.head()"
   ]
  },
  {
   "cell_type": "code",
   "execution_count": 18,
   "metadata": {
    "id": "IilFQEf-jDT6"
   },
   "outputs": [],
   "source": [
    "data['lyrics'] = data.lyrics.str.replace('\\n', ' ')\n",
    "data.to_csv('Book6lyrics.csv',index=False)"
   ]
  },
  {
   "cell_type": "markdown",
   "metadata": {
    "id": "ogOkB9_EjGp_"
   },
   "source": [
    "test = pd.read_csv('data_much_better.csv',sep=';')"
   ]
  },
  {
   "cell_type": "markdown",
   "metadata": {
    "colab": {
     "base_uri": "https://localhost:8080/"
    },
    "id": "2t_MGjPskKjQ",
    "outputId": "04dffe1a-19a1-4857-c150-5501ae435867"
   },
   "source": [
    "test.lyrics.str.replace('\\n', ' ')"
   ]
  },
  {
   "cell_type": "code",
   "execution_count": null,
   "metadata": {},
   "outputs": [],
   "source": []
  }
 ],
 "metadata": {
  "colab": {
   "collapsed_sections": [],
   "name": "lyrics_scraping.ipynb",
   "provenance": []
  },
  "kernelspec": {
   "display_name": "Python 3 (ipykernel)",
   "language": "python",
   "name": "python3"
  },
  "language_info": {
   "codemirror_mode": {
    "name": "ipython",
    "version": 3
   },
   "file_extension": ".py",
   "mimetype": "text/x-python",
   "name": "python",
   "nbconvert_exporter": "python",
   "pygments_lexer": "ipython3",
   "version": "3.8.6"
  }
 },
 "nbformat": 4,
 "nbformat_minor": 1
}
