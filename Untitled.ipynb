{
 "cells": [
  {
   "cell_type": "code",
   "execution_count": 2,
   "id": "ea46cc42",
   "metadata": {},
   "outputs": [],
   "source": [
    "from simpletransformers.classification import ClassificationModel\n",
    "from scipy.special import softmax"
   ]
  },
  {
   "cell_type": "code",
   "execution_count": 54,
   "id": "317fd108",
   "metadata": {},
   "outputs": [],
   "source": [
    "lyrics = \"\"\"I got my driver's license last week\n",
    "Just like we always talked about\n",
    "'Cause you were so excited for me\n",
    "To finally drive up to your house\n",
    "But today I drove through the suburbs\n",
    "Crying 'cause you weren't around\n",
    "And you're probably with that blonde girl\n",
    "Who always made me doubt\n",
    "She's so much older than me\n",
    "She's everything I'm insecure about\n",
    "Yeah, today I drove through the suburbs\n",
    "'Cause how could I ever love someone else?\n",
    "And I know we weren't perfect but I've never felt this way for no one\n",
    "And I just can't imagine how you could be so okay now that I'm gone\n",
    "Guess you didn't mean what you wrote in that song about me\n",
    "'Cause you said forever, now I drive alone past your street\n",
    "And all my friends are tired\n",
    "Of hearing how much I miss you, but\n",
    "I kinda feel sorry for them\n",
    "'Cause they'll never know you the way that I do, yeah\n",
    "Today I drove through the suburbs\n",
    "And pictured I was driving home to you\n",
    "And I know we weren't perfect\n",
    "But I've never felt this way for no one, oh\n",
    "And I just can't imagine how you could be so okay, now that I'm gone\n",
    "I guess you didn't mean what you wrote in that song about me\n",
    "'Cause you said forever, now I drive alone past your street\n",
    "Red lights, stop signs\n",
    "I still see your face in the white cars, front yards\n",
    "Can't drive past the places we used to go to\n",
    "'Cause I still fuckin' love you, babe (ooh, ooh, ooh, ooh)\n",
    "Sidewalks we crossed\n",
    "I still hear your voice in the traffic, we're laughing\n",
    "Over all the noise\n",
    "God, I'm so blue, know we're through\n",
    "But I still fuckin' love you, babe (ooh, ooh, ooh, ooh)\n",
    "I know we weren't perfect but I've never felt this way for no one\n",
    "And I just can't imagine how you could be so okay, now that I'm gone\n",
    "'Cause you didn't mean what you wrote in that song about me\n",
    "'Cause you said forever, now I drive alone past your street\n",
    "Yeah, you said forever, now I drive alone past your street\"\"\""
   ]
  },
  {
   "cell_type": "code",
   "execution_count": 55,
   "id": "244fbf6d",
   "metadata": {
    "scrolled": true
   },
   "outputs": [
    {
     "data": {
      "application/vnd.jupyter.widget-view+json": {
       "model_id": "80b31502154e4654a0aa4920de30cc46",
       "version_major": 2,
       "version_minor": 0
      },
      "text/plain": [
       "  0%|          | 0/1 [00:00<?, ?it/s]"
      ]
     },
     "metadata": {},
     "output_type": "display_data"
    },
    {
     "name": "stdout",
     "output_type": "stream",
     "text": [
      "huggingface/tokenizers: The current process just got forked, after parallelism has already been used. Disabling parallelism to avoid deadlocks...\n",
      "To disable this warning, you can either:\n",
      "\t- Avoid using `tokenizers` before the fork if possible\n",
      "\t- Explicitly set the environment variable TOKENIZERS_PARALLELISM=(true | false)\n"
     ]
    },
    {
     "data": {
      "application/vnd.jupyter.widget-view+json": {
       "model_id": "44175cb68a85444c880a7fffaa9b375a",
       "version_major": 2,
       "version_minor": 0
      },
      "text/plain": [
       "  0%|          | 0/1 [00:00<?, ?it/s]"
      ]
     },
     "metadata": {},
     "output_type": "display_data"
    }
   ],
   "source": [
    "model = ClassificationModel(\"xlnet\", \"models\", use_cuda=False)\n",
    "predictions, raw_outputs = model.predict([lyrics])\n",
    "probabilities = softmax(raw_outputs, axis=1)"
   ]
  },
  {
   "cell_type": "code",
   "execution_count": 56,
   "id": "11fc89cd",
   "metadata": {},
   "outputs": [
    {
     "data": {
      "text/plain": [
       "[3]"
      ]
     },
     "execution_count": 56,
     "metadata": {},
     "output_type": "execute_result"
    }
   ],
   "source": [
    "predictions"
   ]
  },
  {
   "cell_type": "code",
   "execution_count": 58,
   "id": "f4e5cc00",
   "metadata": {},
   "outputs": [
    {
     "data": {
      "text/plain": [
       "0.9295392182839499"
      ]
     },
     "execution_count": 58,
     "metadata": {},
     "output_type": "execute_result"
    }
   ],
   "source": [
    "probabilities[0][3]"
   ]
  },
  {
   "cell_type": "code",
   "execution_count": null,
   "id": "9704d5f0",
   "metadata": {},
   "outputs": [],
   "source": []
  }
 ],
 "metadata": {
  "kernelspec": {
   "display_name": "Python 3 (ipykernel)",
   "language": "python",
   "name": "python3"
  },
  "language_info": {
   "codemirror_mode": {
    "name": "ipython",
    "version": 3
   },
   "file_extension": ".py",
   "mimetype": "text/x-python",
   "name": "python",
   "nbconvert_exporter": "python",
   "pygments_lexer": "ipython3",
   "version": "3.8.6"
  },
  "toc": {
   "base_numbering": 1,
   "nav_menu": {},
   "number_sections": true,
   "sideBar": true,
   "skip_h1_title": false,
   "title_cell": "Table of Contents",
   "title_sidebar": "Contents",
   "toc_cell": false,
   "toc_position": {},
   "toc_section_display": true,
   "toc_window_display": false
  }
 },
 "nbformat": 4,
 "nbformat_minor": 5
}
